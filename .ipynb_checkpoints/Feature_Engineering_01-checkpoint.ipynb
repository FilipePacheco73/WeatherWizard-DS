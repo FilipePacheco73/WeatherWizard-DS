{
 "cells": [
  {
   "cell_type": "markdown",
   "id": "d7c758bb-49c1-4dff-b72a-8891942f0cb8",
   "metadata": {},
   "source": [
    "#D(LAMBDAocs\n",
    "\n",
    "https://github.com/aws/amazon-sagemaker-examples/blob/main/serverless-inference/serverless-model-registry.ipynb"
   ]
  },
  {
   "cell_type": "markdown",
   "id": "c545c902-9343-49d0-9da9-fb364ab8b592",
   "metadata": {},
   "source": [
    "# 0.0 Imports"
   ]
  },
  {
   "cell_type": "code",
   "execution_count": 1,
   "id": "f3ea39ef-1ae8-4f13-b828-15a0687a9957",
   "metadata": {},
   "outputs": [
    {
     "name": "stdout",
     "output_type": "stream",
     "text": [
      "sagemaker.config INFO - Not applying SDK defaults from location: /etc/xdg/sagemaker/config.yaml\n",
      "sagemaker.config INFO - Not applying SDK defaults from location: /home/sagemaker-user/.config/sagemaker/config.yaml\n"
     ]
    }
   ],
   "source": [
    "import pandas as pd\n",
    "import numpy as np\n",
    "import random\n",
    "import os\n",
    "import time\n",
    "from sklearn.model_selection import train_test_split\n",
    "import boto3\n",
    "import sagemaker\n",
    "from sagemaker.estimator import Estimator\n",
    "from datetime import datetime\n",
    "from time import gmtime, strftime\n",
    "from boto3.dynamodb.conditions import Key"
   ]
  },
  {
   "cell_type": "markdown",
   "id": "a3bb3f2e-ebcd-40ae-a0eb-780c71891d8a",
   "metadata": {},
   "source": [
    "# 1.0 Collect"
   ]
  },
  {
   "cell_type": "code",
   "execution_count": 121,
   "id": "0e667c9a-425b-46f8-8f3e-fbd2a52876d0",
   "metadata": {},
   "outputs": [],
   "source": [
    "session = boto3.Session()\n",
    "dynamodb = session.resource('dynamodb')\n",
    "table = dynamodb.Table('WWUserData')\n",
    "response = table.scan()\n",
    "df_loaded = pd.DataFrame(response['Items'])"
   ]
  },
  {
   "cell_type": "code",
   "execution_count": 122,
   "id": "96a639df-5967-4d90-beb0-d042cc14d49c",
   "metadata": {},
   "outputs": [],
   "source": [
    "df_loaded = df_loaded.rename(columns = {'latitude': 'LATITUDE'\n",
    "                                        , 'longitude': 'LONGITUDE'\n",
    "                                        , 'timestamp': 'TIMESTAMP'\n",
    "                                        , 'user_answer': 'USER_ANSWER'\n",
    "                                        , 'if_wrong_answer': 'IF_WRONG_ANSWER'\n",
    "                                        , 'answer': 'PREDICT_WEATHER_CATEGORY'})"
   ]
  },
  {
   "cell_type": "markdown",
   "id": "3abce44f-0183-47e3-8cc4-aa230ddd2cbd",
   "metadata": {},
   "source": [
    "# 2.0 Data Cleaning"
   ]
  },
  {
   "cell_type": "code",
   "execution_count": 132,
   "id": "4e312c4f-9042-4cf5-b716-57b140a89022",
   "metadata": {},
   "outputs": [],
   "source": [
    "df_cleaned = df_loaded.copy()"
   ]
  },
  {
   "cell_type": "markdown",
   "id": "51284053-a179-493a-a1ae-09e9baeaab86",
   "metadata": {},
   "source": [
    "## 2.1 Dtypes"
   ]
  },
  {
   "cell_type": "code",
   "execution_count": 133,
   "id": "5119d8a8-5916-4360-a20f-f21c993ab94f",
   "metadata": {
    "scrolled": true
   },
   "outputs": [
    {
     "data": {
      "text/html": [
       "<div>\n",
       "<style scoped>\n",
       "    .dataframe tbody tr th:only-of-type {\n",
       "        vertical-align: middle;\n",
       "    }\n",
       "\n",
       "    .dataframe tbody tr th {\n",
       "        vertical-align: top;\n",
       "    }\n",
       "\n",
       "    .dataframe thead th {\n",
       "        text-align: right;\n",
       "    }\n",
       "</style>\n",
       "<table border=\"1\" class=\"dataframe\">\n",
       "  <thead>\n",
       "    <tr style=\"text-align: right;\">\n",
       "      <th></th>\n",
       "      <th>LONGITUDE</th>\n",
       "      <th>LONGITUDE</th>\n",
       "      <th>TIMESTAMP</th>\n",
       "      <th>USER_ANSWER</th>\n",
       "      <th>IF_WRONG_ANSWER</th>\n",
       "      <th>PREDICT_WEATHER_CATEGORY</th>\n",
       "    </tr>\n",
       "  </thead>\n",
       "  <tbody>\n",
       "    <tr>\n",
       "      <th>1</th>\n",
       "      <td>-53.9190463</td>\n",
       "      <td>-53.9190463</td>\n",
       "      <td>1721578100537</td>\n",
       "      <td>False</td>\n",
       "      <td>SUNNY</td>\n",
       "      <td>SNOW</td>\n",
       "    </tr>\n",
       "    <tr>\n",
       "      <th>3</th>\n",
       "      <td>-54.3059728</td>\n",
       "      <td>-54.3059728</td>\n",
       "      <td>1721500718235</td>\n",
       "      <td>False</td>\n",
       "      <td>SUNNY</td>\n",
       "      <td>RAINY</td>\n",
       "    </tr>\n",
       "    <tr>\n",
       "      <th>5</th>\n",
       "      <td>-54.3059728</td>\n",
       "      <td>-54.3059728</td>\n",
       "      <td>1721500637576</td>\n",
       "      <td>False</td>\n",
       "      <td>SUNNY</td>\n",
       "      <td>RAINY</td>\n",
       "    </tr>\n",
       "    <tr>\n",
       "      <th>6</th>\n",
       "      <td>-54.31370207716452</td>\n",
       "      <td>-54.31370207716452</td>\n",
       "      <td>1724105663069</td>\n",
       "      <td>True</td>\n",
       "      <td>-</td>\n",
       "      <td>CLOUDY</td>\n",
       "    </tr>\n",
       "    <tr>\n",
       "      <th>9</th>\n",
       "      <td>-53.93043279935448</td>\n",
       "      <td>-53.93043279935448</td>\n",
       "      <td>1721577936590</td>\n",
       "      <td>False</td>\n",
       "      <td>SUNNY</td>\n",
       "      <td>SNOW</td>\n",
       "    </tr>\n",
       "    <tr>\n",
       "      <th>11</th>\n",
       "      <td>-54.31369751074682</td>\n",
       "      <td>-54.31369751074682</td>\n",
       "      <td>1721495035475</td>\n",
       "      <td>False</td>\n",
       "      <td>CLOUDY</td>\n",
       "      <td>RAINY</td>\n",
       "    </tr>\n",
       "    <tr>\n",
       "      <th>12</th>\n",
       "      <td>-54.31361010918956</td>\n",
       "      <td>-54.31361010918956</td>\n",
       "      <td>1721424274536</td>\n",
       "      <td>False</td>\n",
       "      <td>SUNNY</td>\n",
       "      <td>RAINY</td>\n",
       "    </tr>\n",
       "    <tr>\n",
       "      <th>13</th>\n",
       "      <td>-54.30588846835658</td>\n",
       "      <td>-54.30588846835658</td>\n",
       "      <td>1721406081398</td>\n",
       "      <td>False</td>\n",
       "      <td>SUNNY</td>\n",
       "      <td>RAINY</td>\n",
       "    </tr>\n",
       "  </tbody>\n",
       "</table>\n",
       "</div>"
      ],
      "text/plain": [
       "             LONGITUDE           LONGITUDE      TIMESTAMP USER_ANSWER  \\\n",
       "1          -53.9190463         -53.9190463  1721578100537       False   \n",
       "3          -54.3059728         -54.3059728  1721500718235       False   \n",
       "5          -54.3059728         -54.3059728  1721500637576       False   \n",
       "6   -54.31370207716452  -54.31370207716452  1724105663069        True   \n",
       "9   -53.93043279935448  -53.93043279935448  1721577936590       False   \n",
       "11  -54.31369751074682  -54.31369751074682  1721495035475       False   \n",
       "12  -54.31361010918956  -54.31361010918956  1721424274536       False   \n",
       "13  -54.30588846835658  -54.30588846835658  1721406081398       False   \n",
       "\n",
       "   IF_WRONG_ANSWER PREDICT_WEATHER_CATEGORY  \n",
       "1            SUNNY                     SNOW  \n",
       "3            SUNNY                    RAINY  \n",
       "5            SUNNY                    RAINY  \n",
       "6                -                   CLOUDY  \n",
       "9            SUNNY                     SNOW  \n",
       "11          CLOUDY                    RAINY  \n",
       "12           SUNNY                    RAINY  \n",
       "13           SUNNY                    RAINY  "
      ]
     },
     "execution_count": 133,
     "metadata": {},
     "output_type": "execute_result"
    }
   ],
   "source": [
    "df_cleaned = df_cleaned[~(df_loaded['USER_ANSWER'].isna())]\n",
    "df_cleaned = df_cleaned[['LONGITUDE', 'LONGITUDE', 'TIMESTAMP', 'USER_ANSWER', 'IF_WRONG_ANSWER', 'PREDICT_WEATHER_CATEGORY']]\n",
    "df_cleaned['IF_WRONG_ANSWER'] = df_cleaned['IF_WRONG_ANSWER'].str.upper()\n",
    "df_cleaned['TIMESTAMP'] = df_cleaned['TIMESTAMP'].astype(int)\n",
    "df_cleaned"
   ]
  },
  {
   "cell_type": "markdown",
   "id": "4a8f677e-9c81-4321-a977-038bd5fccdf7",
   "metadata": {},
   "source": [
    "## 2.2 Columns"
   ]
  },
  {
   "cell_type": "code",
   "execution_count": 134,
   "id": "d8f4712a-efb1-42c8-9c52-0aec3802a2b8",
   "metadata": {},
   "outputs": [
    {
     "data": {
      "text/html": [
       "<div>\n",
       "<style scoped>\n",
       "    .dataframe tbody tr th:only-of-type {\n",
       "        vertical-align: middle;\n",
       "    }\n",
       "\n",
       "    .dataframe tbody tr th {\n",
       "        vertical-align: top;\n",
       "    }\n",
       "\n",
       "    .dataframe thead th {\n",
       "        text-align: right;\n",
       "    }\n",
       "</style>\n",
       "<table border=\"1\" class=\"dataframe\">\n",
       "  <thead>\n",
       "    <tr style=\"text-align: right;\">\n",
       "      <th></th>\n",
       "      <th>LONGITUDE</th>\n",
       "      <th>LONGITUDE</th>\n",
       "      <th>TIMESTAMP</th>\n",
       "      <th>PREDICT_WEATHER_CATEGORY</th>\n",
       "    </tr>\n",
       "  </thead>\n",
       "  <tbody>\n",
       "    <tr>\n",
       "      <th>1</th>\n",
       "      <td>-53.9190463</td>\n",
       "      <td>-53.9190463</td>\n",
       "      <td>1721578100537</td>\n",
       "      <td>SUNNY</td>\n",
       "    </tr>\n",
       "    <tr>\n",
       "      <th>3</th>\n",
       "      <td>-54.3059728</td>\n",
       "      <td>-54.3059728</td>\n",
       "      <td>1721500718235</td>\n",
       "      <td>SUNNY</td>\n",
       "    </tr>\n",
       "    <tr>\n",
       "      <th>5</th>\n",
       "      <td>-54.3059728</td>\n",
       "      <td>-54.3059728</td>\n",
       "      <td>1721500637576</td>\n",
       "      <td>SUNNY</td>\n",
       "    </tr>\n",
       "    <tr>\n",
       "      <th>6</th>\n",
       "      <td>-54.31370207716452</td>\n",
       "      <td>-54.31370207716452</td>\n",
       "      <td>1724105663069</td>\n",
       "      <td>CLOUDY</td>\n",
       "    </tr>\n",
       "    <tr>\n",
       "      <th>9</th>\n",
       "      <td>-53.93043279935448</td>\n",
       "      <td>-53.93043279935448</td>\n",
       "      <td>1721577936590</td>\n",
       "      <td>SUNNY</td>\n",
       "    </tr>\n",
       "    <tr>\n",
       "      <th>11</th>\n",
       "      <td>-54.31369751074682</td>\n",
       "      <td>-54.31369751074682</td>\n",
       "      <td>1721495035475</td>\n",
       "      <td>CLOUDY</td>\n",
       "    </tr>\n",
       "    <tr>\n",
       "      <th>12</th>\n",
       "      <td>-54.31361010918956</td>\n",
       "      <td>-54.31361010918956</td>\n",
       "      <td>1721424274536</td>\n",
       "      <td>SUNNY</td>\n",
       "    </tr>\n",
       "    <tr>\n",
       "      <th>13</th>\n",
       "      <td>-54.30588846835658</td>\n",
       "      <td>-54.30588846835658</td>\n",
       "      <td>1721406081398</td>\n",
       "      <td>SUNNY</td>\n",
       "    </tr>\n",
       "  </tbody>\n",
       "</table>\n",
       "</div>"
      ],
      "text/plain": [
       "             LONGITUDE           LONGITUDE      TIMESTAMP  \\\n",
       "1          -53.9190463         -53.9190463  1721578100537   \n",
       "3          -54.3059728         -54.3059728  1721500718235   \n",
       "5          -54.3059728         -54.3059728  1721500637576   \n",
       "6   -54.31370207716452  -54.31370207716452  1724105663069   \n",
       "9   -53.93043279935448  -53.93043279935448  1721577936590   \n",
       "11  -54.31369751074682  -54.31369751074682  1721495035475   \n",
       "12  -54.31361010918956  -54.31361010918956  1721424274536   \n",
       "13  -54.30588846835658  -54.30588846835658  1721406081398   \n",
       "\n",
       "   PREDICT_WEATHER_CATEGORY  \n",
       "1                     SUNNY  \n",
       "3                     SUNNY  \n",
       "5                     SUNNY  \n",
       "6                    CLOUDY  \n",
       "9                     SUNNY  \n",
       "11                   CLOUDY  \n",
       "12                    SUNNY  \n",
       "13                    SUNNY  "
      ]
     },
     "execution_count": 134,
     "metadata": {},
     "output_type": "execute_result"
    }
   ],
   "source": [
    "df_cleaned['PREDICT_WEATHER_CATEGORY'] = df_cleaned.apply(lambda x : x['IF_WRONG_ANSWER'] if x['IF_WRONG_ANSWER'] !=  '-' else x['PREDICT_WEATHER_CATEGORY'], axis = 1)\n",
    "df_cleaned = df_cleaned.drop(columns = ['USER_ANSWER', 'IF_WRONG_ANSWER'])\n",
    "df_cleaned"
   ]
  },
  {
   "cell_type": "markdown",
   "id": "41b08e2a-4f41-4995-b20e-c0732b1f0ad2",
   "metadata": {},
   "source": [
    "## 2.3 Transformations"
   ]
  },
  {
   "cell_type": "code",
   "execution_count": 135,
   "id": "09d5673a-a599-4cc1-8b90-313e8bd13130",
   "metadata": {},
   "outputs": [],
   "source": [
    "df_transformed = df_cleaned.copy()"
   ]
  },
  {
   "cell_type": "code",
   "execution_count": 136,
   "id": "978cebcc-728f-4b05-964e-6c9584201544",
   "metadata": {},
   "outputs": [
    {
     "data": {
      "text/html": [
       "<div>\n",
       "<style scoped>\n",
       "    .dataframe tbody tr th:only-of-type {\n",
       "        vertical-align: middle;\n",
       "    }\n",
       "\n",
       "    .dataframe tbody tr th {\n",
       "        vertical-align: top;\n",
       "    }\n",
       "\n",
       "    .dataframe thead th {\n",
       "        text-align: right;\n",
       "    }\n",
       "</style>\n",
       "<table border=\"1\" class=\"dataframe\">\n",
       "  <thead>\n",
       "    <tr style=\"text-align: right;\">\n",
       "      <th></th>\n",
       "      <th>LONGITUDE</th>\n",
       "      <th>LONGITUDE</th>\n",
       "      <th>TIMESTAMP</th>\n",
       "      <th>PREDICT_WEATHER_CATEGORY</th>\n",
       "    </tr>\n",
       "  </thead>\n",
       "  <tbody>\n",
       "    <tr>\n",
       "      <th>1</th>\n",
       "      <td>-53.9190463</td>\n",
       "      <td>-53.9190463</td>\n",
       "      <td>1721578100537</td>\n",
       "      <td>4</td>\n",
       "    </tr>\n",
       "    <tr>\n",
       "      <th>3</th>\n",
       "      <td>-54.3059728</td>\n",
       "      <td>-54.3059728</td>\n",
       "      <td>1721500718235</td>\n",
       "      <td>4</td>\n",
       "    </tr>\n",
       "    <tr>\n",
       "      <th>5</th>\n",
       "      <td>-54.3059728</td>\n",
       "      <td>-54.3059728</td>\n",
       "      <td>1721500637576</td>\n",
       "      <td>4</td>\n",
       "    </tr>\n",
       "    <tr>\n",
       "      <th>6</th>\n",
       "      <td>-54.31370207716452</td>\n",
       "      <td>-54.31370207716452</td>\n",
       "      <td>1724105663069</td>\n",
       "      <td>0</td>\n",
       "    </tr>\n",
       "    <tr>\n",
       "      <th>9</th>\n",
       "      <td>-53.93043279935448</td>\n",
       "      <td>-53.93043279935448</td>\n",
       "      <td>1721577936590</td>\n",
       "      <td>4</td>\n",
       "    </tr>\n",
       "    <tr>\n",
       "      <th>11</th>\n",
       "      <td>-54.31369751074682</td>\n",
       "      <td>-54.31369751074682</td>\n",
       "      <td>1721495035475</td>\n",
       "      <td>0</td>\n",
       "    </tr>\n",
       "    <tr>\n",
       "      <th>12</th>\n",
       "      <td>-54.31361010918956</td>\n",
       "      <td>-54.31361010918956</td>\n",
       "      <td>1721424274536</td>\n",
       "      <td>4</td>\n",
       "    </tr>\n",
       "    <tr>\n",
       "      <th>13</th>\n",
       "      <td>-54.30588846835658</td>\n",
       "      <td>-54.30588846835658</td>\n",
       "      <td>1721406081398</td>\n",
       "      <td>4</td>\n",
       "    </tr>\n",
       "  </tbody>\n",
       "</table>\n",
       "</div>"
      ],
      "text/plain": [
       "             LONGITUDE           LONGITUDE      TIMESTAMP  \\\n",
       "1          -53.9190463         -53.9190463  1721578100537   \n",
       "3          -54.3059728         -54.3059728  1721500718235   \n",
       "5          -54.3059728         -54.3059728  1721500637576   \n",
       "6   -54.31370207716452  -54.31370207716452  1724105663069   \n",
       "9   -53.93043279935448  -53.93043279935448  1721577936590   \n",
       "11  -54.31369751074682  -54.31369751074682  1721495035475   \n",
       "12  -54.31361010918956  -54.31361010918956  1721424274536   \n",
       "13  -54.30588846835658  -54.30588846835658  1721406081398   \n",
       "\n",
       "    PREDICT_WEATHER_CATEGORY  \n",
       "1                          4  \n",
       "3                          4  \n",
       "5                          4  \n",
       "6                          0  \n",
       "9                          4  \n",
       "11                         0  \n",
       "12                         4  \n",
       "13                         4  "
      ]
     },
     "execution_count": 136,
     "metadata": {},
     "output_type": "execute_result"
    }
   ],
   "source": [
    "index_to_class = {0: 'CLOUDY', 1: 'FOG', 2: 'RAINY', 3: 'SNOW', 4: 'SUNNY'}\n",
    "CLASS_INDEX = {'CLOUDY': 0, 'FOG': 1, 'RAINY': 2, 'SNOW': 3, 'SUNNY': 4}\n",
    "\n",
    "df_transformed['PREDICT_WEATHER_CATEGORY'] = df_transformed['PREDICT_WEATHER_CATEGORY'].map(CLASS_INDEX)\n",
    "df_transformed"
   ]
  },
  {
   "cell_type": "markdown",
   "id": "40598ee7-6de4-4d43-8092-b0b4a7efbecf",
   "metadata": {},
   "source": [
    "# 3. 0 Feature Engineering"
   ]
  },
  {
   "cell_type": "markdown",
   "id": "374e0b7a-1fd4-4a76-9f40-9376374e8ea6",
   "metadata": {},
   "source": [
    "## 3.1 Time"
   ]
  },
  {
   "cell_type": "code",
   "execution_count": 137,
   "id": "f81fb088-2e78-4011-bd60-8b0b9f0cc22d",
   "metadata": {},
   "outputs": [
    {
     "data": {
      "text/html": [
       "<div>\n",
       "<style scoped>\n",
       "    .dataframe tbody tr th:only-of-type {\n",
       "        vertical-align: middle;\n",
       "    }\n",
       "\n",
       "    .dataframe tbody tr th {\n",
       "        vertical-align: top;\n",
       "    }\n",
       "\n",
       "    .dataframe thead th {\n",
       "        text-align: right;\n",
       "    }\n",
       "</style>\n",
       "<table border=\"1\" class=\"dataframe\">\n",
       "  <thead>\n",
       "    <tr style=\"text-align: right;\">\n",
       "      <th></th>\n",
       "      <th>LONGITUDE</th>\n",
       "      <th>LONGITUDE</th>\n",
       "      <th>PREDICT_WEATHER_CATEGORY</th>\n",
       "      <th>DAY</th>\n",
       "      <th>MONTH</th>\n",
       "      <th>YEAR</th>\n",
       "      <th>WEEK_OF_YEAR</th>\n",
       "      <th>HOUR</th>\n",
       "    </tr>\n",
       "  </thead>\n",
       "  <tbody>\n",
       "    <tr>\n",
       "      <th>1</th>\n",
       "      <td>-53.9190463</td>\n",
       "      <td>-53.9190463</td>\n",
       "      <td>4</td>\n",
       "      <td>21</td>\n",
       "      <td>7</td>\n",
       "      <td>2024</td>\n",
       "      <td>29</td>\n",
       "      <td>16</td>\n",
       "    </tr>\n",
       "    <tr>\n",
       "      <th>3</th>\n",
       "      <td>-54.3059728</td>\n",
       "      <td>-54.3059728</td>\n",
       "      <td>4</td>\n",
       "      <td>20</td>\n",
       "      <td>7</td>\n",
       "      <td>2024</td>\n",
       "      <td>29</td>\n",
       "      <td>18</td>\n",
       "    </tr>\n",
       "    <tr>\n",
       "      <th>5</th>\n",
       "      <td>-54.3059728</td>\n",
       "      <td>-54.3059728</td>\n",
       "      <td>4</td>\n",
       "      <td>20</td>\n",
       "      <td>7</td>\n",
       "      <td>2024</td>\n",
       "      <td>29</td>\n",
       "      <td>18</td>\n",
       "    </tr>\n",
       "    <tr>\n",
       "      <th>6</th>\n",
       "      <td>-54.31370207716452</td>\n",
       "      <td>-54.31370207716452</td>\n",
       "      <td>0</td>\n",
       "      <td>19</td>\n",
       "      <td>8</td>\n",
       "      <td>2024</td>\n",
       "      <td>34</td>\n",
       "      <td>22</td>\n",
       "    </tr>\n",
       "    <tr>\n",
       "      <th>9</th>\n",
       "      <td>-53.93043279935448</td>\n",
       "      <td>-53.93043279935448</td>\n",
       "      <td>4</td>\n",
       "      <td>21</td>\n",
       "      <td>7</td>\n",
       "      <td>2024</td>\n",
       "      <td>29</td>\n",
       "      <td>16</td>\n",
       "    </tr>\n",
       "    <tr>\n",
       "      <th>11</th>\n",
       "      <td>-54.31369751074682</td>\n",
       "      <td>-54.31369751074682</td>\n",
       "      <td>0</td>\n",
       "      <td>20</td>\n",
       "      <td>7</td>\n",
       "      <td>2024</td>\n",
       "      <td>29</td>\n",
       "      <td>17</td>\n",
       "    </tr>\n",
       "    <tr>\n",
       "      <th>12</th>\n",
       "      <td>-54.31361010918956</td>\n",
       "      <td>-54.31361010918956</td>\n",
       "      <td>4</td>\n",
       "      <td>19</td>\n",
       "      <td>7</td>\n",
       "      <td>2024</td>\n",
       "      <td>29</td>\n",
       "      <td>21</td>\n",
       "    </tr>\n",
       "    <tr>\n",
       "      <th>13</th>\n",
       "      <td>-54.30588846835658</td>\n",
       "      <td>-54.30588846835658</td>\n",
       "      <td>4</td>\n",
       "      <td>19</td>\n",
       "      <td>7</td>\n",
       "      <td>2024</td>\n",
       "      <td>29</td>\n",
       "      <td>16</td>\n",
       "    </tr>\n",
       "  </tbody>\n",
       "</table>\n",
       "</div>"
      ],
      "text/plain": [
       "             LONGITUDE           LONGITUDE  PREDICT_WEATHER_CATEGORY  DAY  \\\n",
       "1          -53.9190463         -53.9190463                         4   21   \n",
       "3          -54.3059728         -54.3059728                         4   20   \n",
       "5          -54.3059728         -54.3059728                         4   20   \n",
       "6   -54.31370207716452  -54.31370207716452                         0   19   \n",
       "9   -53.93043279935448  -53.93043279935448                         4   21   \n",
       "11  -54.31369751074682  -54.31369751074682                         0   20   \n",
       "12  -54.31361010918956  -54.31361010918956                         4   19   \n",
       "13  -54.30588846835658  -54.30588846835658                         4   19   \n",
       "\n",
       "    MONTH  YEAR  WEEK_OF_YEAR  HOUR  \n",
       "1       7  2024            29    16  \n",
       "3       7  2024            29    18  \n",
       "5       7  2024            29    18  \n",
       "6       8  2024            34    22  \n",
       "9       7  2024            29    16  \n",
       "11      7  2024            29    17  \n",
       "12      7  2024            29    21  \n",
       "13      7  2024            29    16  "
      ]
     },
     "execution_count": 137,
     "metadata": {},
     "output_type": "execute_result"
    }
   ],
   "source": [
    "def transform_dataset(df_transformed):\n",
    "    \"\"\"\n",
    "    Transforms the original DataFrame by converting UNIX timestamps to datetime and extracting additional time-based features.\n",
    "\n",
    "    Parameters:\n",
    "    df_transformed (pd.DataFrame): The original DataFrame containing a 'TIMESTAMP' column with UNIX timestamps.\n",
    "\n",
    "    Returns:\n",
    "    pd.DataFrame: The transformed DataFrame with additional columns for date and time features.\n",
    "    \"\"\"\n",
    "\n",
    "    def convert_unix_timestamp(timestamp):\n",
    "        \"\"\"\n",
    "        Converts a UNIX timestamp to a datetime object.\n",
    "\n",
    "        Parameters:\n",
    "        timestamp (int): The UNIX timestamp to convert.\n",
    "\n",
    "        Returns:\n",
    "        datetime: The corresponding datetime object.\n",
    "        \"\"\"\n",
    "        return datetime.fromtimestamp(timestamp/1000)\n",
    "\n",
    "    # Convert the UNIX timestamps to datetime objects\n",
    "    df_transformed['DATE'] = df_transformed['TIMESTAMP'].apply(convert_unix_timestamp)\n",
    "\n",
    "    # Extract additional time-based features from the 'DATE' column\n",
    "    df_transformed['DAY'] = df_transformed['DATE'].dt.day\n",
    "    df_transformed['MONTH'] = df_transformed['DATE'].dt.month\n",
    "    df_transformed['YEAR'] = df_transformed['DATE'].dt.year\n",
    "    df_transformed['WEEK_OF_YEAR'] = df_transformed['DATE'].dt.isocalendar().week\n",
    "    df_transformed['HOUR'] = df_transformed['DATE'].dt.hour\n",
    "    \n",
    "    # Excluding unecessary columns\n",
    "    df_transformed = df_transformed.drop(columns = ['DATE', 'TIMESTAMP'])\n",
    "\n",
    "    return df_transformed\n",
    "\n",
    "dataset_fe = transform_dataset(df_transformed)\n",
    "dataset_fe"
   ]
  },
  {
   "cell_type": "markdown",
   "id": "67de4551-0ec8-4fdb-b5cb-c8e36fcac15c",
   "metadata": {},
   "source": [
    "# 4.0 Feature Split"
   ]
  },
  {
   "cell_type": "code",
   "execution_count": 130,
   "id": "7afa562e-eb7a-4c75-ae9b-d5a555c3d338",
   "metadata": {},
   "outputs": [],
   "source": [
    "# Assuming you already have a dataset where 'target' is your target variable\n",
    "# and 'features' are your input features.\n",
    "\n",
    "# Split the dataset into training and testing sets\n",
    "X_train, X_test, y_train, y_test = train_test_split(dataset_fe.drop(columns=['PREDICT_WEATHER_CATEGORY']), \n",
    "                                                    dataset_fe['PREDICT_WEATHER_CATEGORY'], \n",
    "                                                    test_size=0.2, \n",
    "                                                    random_state=42)\n",
    "\n",
    "# Concatenar X_train e y_train em um único DataFrame\n",
    "train_data = pd.concat([y_train, X_train], axis=1)\n",
    "\n",
    "# Concatenar X_test e y_test em um único DataFrame\n",
    "test_data = pd.concat([y_test, X_test], axis=1)\n",
    "\n",
    "# Salvar os conjuntos de dados de treinamento e teste juntos em um único arquivo CSV\n",
    "train_data.to_csv('train.csv', index=False)\n",
    "test_data.to_csv('test.csv', index=False)"
   ]
  },
  {
   "cell_type": "code",
   "execution_count": 131,
   "id": "beeb4316-63dc-40e9-9c23-f538b2a7f7de",
   "metadata": {},
   "outputs": [],
   "source": [
    "# Bot client\n",
    "s3 = boto3.client('s3')\n",
    "\n",
    "# Diretório onde os arquivos CSV estão localizados\n",
    "directory = f\"{os.getcwd()}/\"\n",
    "\n",
    "# Conecte-se ao cliente S3\n",
    "s3 = boto3.client('s3')\n",
    "\n",
    "# Upload do arquivo train.csv\n",
    "train_file = os.path.join(directory, 'train.csv')\n",
    "s3.upload_file(train_file, 'weatherwizard-ml-model', 'data/train.csv')\n",
    "\n",
    "# Upload do arquivo test.csv\n",
    "test_file = os.path.join(directory, 'test.csv')\n",
    "s3.upload_file(test_file, 'weatherwizard-ml-model', 'data/test.csv')"
   ]
  },
  {
   "cell_type": "markdown",
   "id": "536f89c0-7f8f-4108-8605-9a2c28b7795f",
   "metadata": {},
   "source": [
    "# 5.0 Model Setup"
   ]
  },
  {
   "cell_type": "code",
   "execution_count": 173,
   "id": "5dd31c0c-12c9-4d03-87d7-1b36bd41cd1f",
   "metadata": {},
   "outputs": [],
   "source": [
    "# Setup clients\n",
    "client = boto3.client(service_name=\"sagemaker\")\n",
    "runtime = boto3.client(service_name=\"sagemaker-runtime\")"
   ]
  },
  {
   "cell_type": "code",
   "execution_count": 174,
   "id": "69f0c84f-2117-4b00-a0b5-0f1f36ef2d6f",
   "metadata": {},
   "outputs": [
    {
     "name": "stdout",
     "output_type": "stream",
     "text": [
      "us-east-1\n",
      "sagemaker.config INFO - Not applying SDK defaults from location: /etc/xdg/sagemaker/config.yaml\n",
      "sagemaker.config INFO - Not applying SDK defaults from location: /home/sagemaker-user/.config/sagemaker/config.yaml\n",
      "sagemaker.config INFO - Not applying SDK defaults from location: /etc/xdg/sagemaker/config.yaml\n",
      "sagemaker.config INFO - Not applying SDK defaults from location: /home/sagemaker-user/.config/sagemaker/config.yaml\n",
      "arn:aws:iam::279288473542:role/service-role/AmazonSageMaker-ExecutionRole-20240313T183292\n"
     ]
    }
   ],
   "source": [
    "boto_session = boto3.session.Session()\n",
    "region = boto_session.region_name\n",
    "print(region)\n",
    "\n",
    "sagemaker_session = sagemaker.Session()\n",
    "base_job_prefix = \"xgboost-weatherwizard-ml-model\"\n",
    "role = sagemaker.get_execution_role()\n",
    "print(role)\n",
    "\n",
    "#default_bucket = f'weatherwizard-ml-model-{sagemaker_session.default_bucket()}'\n",
    "default_bucket = 'weatherwizard-ml-model'\n",
    "s3_prefix = base_job_prefix\n",
    "\n",
    "training_instance_type = \"ml.m5.xlarge\""
   ]
  },
  {
   "cell_type": "markdown",
   "id": "a1b92058-09e6-498d-bd52-d4513a1e2e77",
   "metadata": {},
   "source": [
    "## 5.1 Model Training"
   ]
  },
  {
   "cell_type": "code",
   "execution_count": 175,
   "id": "6f7527e7-0a3c-49a1-816f-71885c0a67dc",
   "metadata": {},
   "outputs": [],
   "source": [
    "from sagemaker.inputs import TrainingInput\n",
    "\n",
    "training_path = f\"s3://{default_bucket}/data/train.csv\"\n",
    "train_input = TrainingInput(training_path, content_type=\"text/csv\")"
   ]
  },
  {
   "cell_type": "code",
   "execution_count": 187,
   "id": "90ec8fd5-ae33-49ea-b040-48f3ba84601e",
   "metadata": {},
   "outputs": [],
   "source": [
    "model_path = f\"s3://{default_bucket}/{s3_prefix}/xgb_model\"\n",
    "\n",
    "# retrieve xgboost image\n",
    "image_uri = sagemaker.image_uris.retrieve(framework=\"xgboost\",\n",
    "                                          region=region,\n",
    "                                          version=\"1.0-1\",\n",
    "                                          py_version=\"py3\",\n",
    "                                          instance_type=training_instance_type,)\n",
    "# Configure Training Estimator\n",
    "xgb_train = Estimator(image_uri=image_uri,\n",
    "                      instance_type=training_instance_type,\n",
    "                      instance_count=1,\n",
    "                      output_path=model_path,\n",
    "                      sagemaker_session=sagemaker_session,\n",
    "                      role=role)\n",
    "# Set Hyperparameters\n",
    "xgb_train.set_hyperparameters(objective=\"multi:softmax\",  # Alterado para classificação multiclasse\n",
    "                              num_class=5,  # Defina o número de classes esperadas\n",
    "                              num_round=50,\n",
    "                              max_depth=5,\n",
    "                              eta=0.2,\n",
    "                              gamma=4,\n",
    "                              min_child_weight=6,\n",
    "                              subsample=0.7,\n",
    "                              silent=0,\n",
    "                              eval_metric=\"f1\")"
   ]
  },
  {
   "cell_type": "code",
   "execution_count": 188,
   "id": "8752bd9a-115d-4199-9e79-e15722b78398",
   "metadata": {},
   "outputs": [
    {
     "name": "stderr",
     "output_type": "stream",
     "text": [
      "INFO:sagemaker:Creating training-job with name: sagemaker-xgboost-2024-06-22-18-16-32-343\n"
     ]
    },
    {
     "name": "stdout",
     "output_type": "stream",
     "text": [
      "2024-06-22 18:16:32 Starting - Starting the training job...\n",
      "2024-06-22 18:16:56 Starting - Preparing the instances for training...\n",
      "2024-06-22 18:17:21 Downloading - Downloading input data...\n",
      "2024-06-22 18:17:46 Downloading - Downloading the training image...\n",
      "2024-06-22 18:18:27 Training - Training image download completed. Training in progress...\u001b[34m[2024-06-22 18:18:38.061 ip-10-0-217-71.ec2.internal:7 INFO utils.py:27] RULE_JOB_STOP_SIGNAL_FILENAME: None\u001b[0m\n",
      "\u001b[34mINFO:sagemaker-containers:Imported framework sagemaker_xgboost_container.training\u001b[0m\n",
      "\u001b[34mINFO:sagemaker-containers:Failed to parse hyperparameter eval_metric value f1 to Json.\u001b[0m\n",
      "\u001b[34mReturning the value itself\u001b[0m\n",
      "\u001b[34mINFO:sagemaker-containers:Failed to parse hyperparameter objective value multi:softmax to Json.\u001b[0m\n",
      "\u001b[34mReturning the value itself\u001b[0m\n",
      "\u001b[34mINFO:sagemaker-containers:No GPUs detected (normal if no gpus installed)\u001b[0m\n",
      "\u001b[34mINFO:sagemaker_xgboost_container.training:Running XGBoost Sagemaker in algorithm mode\u001b[0m\n",
      "\u001b[34mINFO:root:Determined delimiter of CSV input is ','\u001b[0m\n",
      "\u001b[34mINFO:root:Determined delimiter of CSV input is ','\u001b[0m\n",
      "\u001b[34mINFO:root:Single node training.\u001b[0m\n",
      "\u001b[34m[18:18:38] 8001x7 matrix with 56007 entries loaded from /opt/ml/input/data/train?format=csv&label_column=0&delimiter=,\u001b[0m\n",
      "\u001b[34m[2024-06-22 18:18:38.126 ip-10-0-217-71.ec2.internal:7 INFO json_config.py:91] Creating hook from json_config at /opt/ml/input/config/debughookconfig.json.\u001b[0m\n",
      "\u001b[34m[2024-06-22 18:18:38.127 ip-10-0-217-71.ec2.internal:7 INFO hook.py:201] tensorboard_dir has not been set for the hook. SMDebug will not be exporting tensorboard summaries.\u001b[0m\n",
      "\u001b[34m[2024-06-22 18:18:38.127 ip-10-0-217-71.ec2.internal:7 INFO profiler_config_parser.py:102] User has disabled profiler.\u001b[0m\n",
      "\u001b[34m[2024-06-22 18:18:38.128 ip-10-0-217-71.ec2.internal:7 INFO hook.py:255] Saving to /opt/ml/output/tensors\u001b[0m\n",
      "\u001b[34m[2024-06-22 18:18:38.128 ip-10-0-217-71.ec2.internal:7 INFO state_store.py:77] The checkpoint config file /opt/ml/input/config/checkpointconfig.json does not exist.\u001b[0m\n",
      "\u001b[34mINFO:root:Debug hook created from config\u001b[0m\n",
      "\u001b[34mINFO:root:Train matrix has 8001 rows\u001b[0m\n",
      "\u001b[34m[18:18:38] WARNING: /workspace/src/learner.cc:328: \u001b[0m\n",
      "\u001b[34mParameters: { num_round, silent } might not be used.\n",
      "  This may not be accurate due to some parameters are only used in language bindings but\n",
      "  passed down to XGBoost core.  Or some parameters are not used but slip through this\n",
      "  verification. Please open an issue if you find above cases.\u001b[0m\n",
      "\u001b[34m[0]#011train-merror:0.77903#011train-f1:0.16563\u001b[0m\n",
      "\u001b[34m[2024-06-22 18:18:38.220 ip-10-0-217-71.ec2.internal:7 INFO hook.py:423] Monitoring the collections: metrics\u001b[0m\n",
      "\u001b[34m[2024-06-22 18:18:38.222 ip-10-0-217-71.ec2.internal:7 INFO hook.py:486] Hook is writing from the hook with pid: 7\u001b[0m\n",
      "\u001b[34m[1]#011train-merror:0.76178#011train-f1:0.23508\u001b[0m\n",
      "\u001b[34m[2]#011train-merror:0.76528#011train-f1:0.23013\u001b[0m\n",
      "\u001b[34m[3]#011train-merror:0.75403#011train-f1:0.23712\u001b[0m\n",
      "\u001b[34m[4]#011train-merror:0.74741#011train-f1:0.24503\u001b[0m\n",
      "\u001b[34m[5]#011train-merror:0.74341#011train-f1:0.24924\u001b[0m\n",
      "\u001b[34m[6]#011train-merror:0.74041#011train-f1:0.25456\u001b[0m\n",
      "\u001b[34m[7]#011train-merror:0.73853#011train-f1:0.25444\u001b[0m\n",
      "\u001b[34m[8]#011train-merror:0.73816#011train-f1:0.25363\u001b[0m\n",
      "\u001b[34m[9]#011train-merror:0.73703#011train-f1:0.25342\u001b[0m\n",
      "\u001b[34m[10]#011train-merror:0.74228#011train-f1:0.24873\u001b[0m\n",
      "\u001b[34m[11]#011train-merror:0.73778#011train-f1:0.25539\u001b[0m\n",
      "\u001b[34m[12]#011train-merror:0.73503#011train-f1:0.25840\u001b[0m\n",
      "\u001b[34m[13]#011train-merror:0.73378#011train-f1:0.25761\u001b[0m\n",
      "\u001b[34m[14]#011train-merror:0.73453#011train-f1:0.25571\u001b[0m\n",
      "\u001b[34m[15]#011train-merror:0.73066#011train-f1:0.26011\u001b[0m\n",
      "\u001b[34m[16]#011train-merror:0.72741#011train-f1:0.26564\u001b[0m\n",
      "\u001b[34m[17]#011train-merror:0.72803#011train-f1:0.26317\u001b[0m\n",
      "\u001b[34m[18]#011train-merror:0.72666#011train-f1:0.26394\u001b[0m\n",
      "\u001b[34m[19]#011train-merror:0.72616#011train-f1:0.26634\u001b[0m\n",
      "\u001b[34m[20]#011train-merror:0.72303#011train-f1:0.26880\u001b[0m\n",
      "\u001b[34m[21]#011train-merror:0.72066#011train-f1:0.27314\u001b[0m\n",
      "\u001b[34m[22]#011train-merror:0.72228#011train-f1:0.27182\u001b[0m\n",
      "\u001b[34m[23]#011train-merror:0.72291#011train-f1:0.27056\u001b[0m\n",
      "\u001b[34m[24]#011train-merror:0.72179#011train-f1:0.27271\u001b[0m\n",
      "\u001b[34m[25]#011train-merror:0.72216#011train-f1:0.27239\u001b[0m\n",
      "\u001b[34m[26]#011train-merror:0.72316#011train-f1:0.27262\u001b[0m\n",
      "\u001b[34m[27]#011train-merror:0.72191#011train-f1:0.27165\u001b[0m\n",
      "\u001b[34m[28]#011train-merror:0.72341#011train-f1:0.27125\u001b[0m\n",
      "\u001b[34m[29]#011train-merror:0.71754#011train-f1:0.27835\u001b[0m\n",
      "\u001b[34m[30]#011train-merror:0.71803#011train-f1:0.27757\u001b[0m\n",
      "\u001b[34m[31]#011train-merror:0.71566#011train-f1:0.28088\u001b[0m\n",
      "\u001b[34m[32]#011train-merror:0.71554#011train-f1:0.28081\u001b[0m\n",
      "\u001b[34m[33]#011train-merror:0.71491#011train-f1:0.28140\u001b[0m\n",
      "\u001b[34m[34]#011train-merror:0.71654#011train-f1:0.28008\u001b[0m\n",
      "\u001b[34m[35]#011train-merror:0.71679#011train-f1:0.27949\u001b[0m\n",
      "\u001b[34m[36]#011train-merror:0.71641#011train-f1:0.27978\u001b[0m\n",
      "\u001b[34m[37]#011train-merror:0.71504#011train-f1:0.28148\u001b[0m\n",
      "\u001b[34m[38]#011train-merror:0.71529#011train-f1:0.28208\u001b[0m\n",
      "\u001b[34m[39]#011train-merror:0.71479#011train-f1:0.28223\u001b[0m\n",
      "\u001b[34m[40]#011train-merror:0.71479#011train-f1:0.28191\u001b[0m\n",
      "\u001b[34m[41]#011train-merror:0.71404#011train-f1:0.28270\u001b[0m\n",
      "\u001b[34m[42]#011train-merror:0.71366#011train-f1:0.28287\u001b[0m\n",
      "\u001b[34m[43]#011train-merror:0.71491#011train-f1:0.28193\u001b[0m\n",
      "\u001b[34m[44]#011train-merror:0.71116#011train-f1:0.28632\u001b[0m\n",
      "\u001b[34m[45]#011train-merror:0.71141#011train-f1:0.28650\u001b[0m\n",
      "\u001b[34m[46]#011train-merror:0.71116#011train-f1:0.28616\u001b[0m\n",
      "\u001b[34m[47]#011train-merror:0.71016#011train-f1:0.28713\u001b[0m\n",
      "\u001b[34m[48]#011train-merror:0.70991#011train-f1:0.28721\u001b[0m\n",
      "\u001b[34m[49]#011train-merror:0.70879#011train-f1:0.28825\u001b[0m\n",
      "\n",
      "2024-06-22 18:18:55 Uploading - Uploading generated training model\n",
      "2024-06-22 18:18:55 Completed - Training job completed\n",
      "Training seconds: 94\n",
      "Billable seconds: 94\n"
     ]
    }
   ],
   "source": [
    "# Fit model\n",
    "xgb_train.fit({\"train\": train_input})"
   ]
  },
  {
   "cell_type": "code",
   "execution_count": 189,
   "id": "e64186cb-58a5-4dc8-98af-bf7d9ccfd50d",
   "metadata": {},
   "outputs": [
    {
     "data": {
      "text/plain": [
       "'s3://weatherwizard-ml-model/xgboost-weatherwizard-ml-model/xgb_model/sagemaker-xgboost-2024-06-22-18-16-32-343/output/model.tar.gz'"
      ]
     },
     "execution_count": 189,
     "metadata": {},
     "output_type": "execute_result"
    }
   ],
   "source": [
    "# Retrieve model data from training job\n",
    "model_artifacts = xgb_train.model_data\n",
    "model_artifacts"
   ]
  },
  {
   "cell_type": "markdown",
   "id": "8bc5b9c8-4d36-4c37-a7ce-723c24c9c050",
   "metadata": {},
   "source": [
    "# 6.0 Model Registry"
   ]
  },
  {
   "cell_type": "code",
   "execution_count": 190,
   "id": "1535d0f6-020c-4826-bc8e-6f25746ca90f",
   "metadata": {},
   "outputs": [
    {
     "name": "stdout",
     "output_type": "stream",
     "text": [
      "ModelPackageGroup Arn : arn:aws:sagemaker:us-east-1:279288473542:model-package-group/xgboost-weather-wizard2024-06-22-18-19-15\n"
     ]
    }
   ],
   "source": [
    "# Create a Model Package Group: https://docs.aws.amazon.com/sagemaker/latest/dg/model-registry-model-group.html\n",
    "model_package_group_name = \"xgboost-weather-wizard\" + strftime(\"%Y-%m-%d-%H-%M-%S\", gmtime())\n",
    "model_package_group_input_dict = {\"ModelPackageGroupName\": model_package_group_name,\n",
    "                                  \"ModelPackageGroupDescription\": \"Model package group for xgboost regression model\"}\n",
    "\n",
    "create_model_pacakge_group_response = client.create_model_package_group(**model_package_group_input_dict)\n",
    "print(\"ModelPackageGroup Arn : {}\".format(create_model_pacakge_group_response[\"ModelPackageGroupArn\"]))"
   ]
  },
  {
   "cell_type": "code",
   "execution_count": 191,
   "id": "2b101737-ca76-4882-a1ae-57710700f314",
   "metadata": {},
   "outputs": [
    {
     "name": "stdout",
     "output_type": "stream",
     "text": [
      "ModelPackage Version ARN : arn:aws:sagemaker:us-east-1:279288473542:model-package/xgboost-weather-wizard2024-06-22-18-19-15/1\n"
     ]
    }
   ],
   "source": [
    "model_package_group_arn = create_model_pacakge_group_response[\"ModelPackageGroupArn\"]\n",
    "modelpackage_inference_specification = {\"InferenceSpecification\": {\"Containers\": [{\"Image\": image_uri}],\n",
    "                                        \"SupportedContentTypes\": [\"text/csv\"],\n",
    "                                        \"SupportedResponseMIMETypes\": [\"text/csv\"]}}\n",
    "\n",
    "# Specify the model source\n",
    "model_url = model_artifacts\n",
    "\n",
    "# Specify the model data\n",
    "modelpackage_inference_specification[\"InferenceSpecification\"][\"Containers\"][0][\"ModelDataUrl\"] = model_url\n",
    "\n",
    "create_model_package_input_dict = {\"ModelPackageGroupName\": model_package_group_arn,\n",
    "                                   \"ModelPackageDescription\": \"Model for regression Weather Wizard dataset\",\n",
    "                                   \"ModelApprovalStatus\": \"PendingManualApproval\"}\n",
    "\n",
    "create_model_package_input_dict.update(modelpackage_inference_specification)\n",
    "\n",
    "# Create cross-account model package\n",
    "create_mode_package_response = client.create_model_package(**create_model_package_input_dict)\n",
    "model_package_arn = create_mode_package_response[\"ModelPackageArn\"]\n",
    "print(\"ModelPackage Version ARN : {}\".format(model_package_arn))"
   ]
  },
  {
   "cell_type": "code",
   "execution_count": 192,
   "id": "63195804-b825-41b8-9c6d-8b63f2509e2e",
   "metadata": {},
   "outputs": [
    {
     "data": {
      "text/plain": [
       "{'ModelPackageSummaryList': [{'ModelPackageGroupName': 'xgboost-weather-wizard2024-06-22-18-19-15',\n",
       "   'ModelPackageVersion': 1,\n",
       "   'ModelPackageArn': 'arn:aws:sagemaker:us-east-1:279288473542:model-package/xgboost-weather-wizard2024-06-22-18-19-15/1',\n",
       "   'ModelPackageDescription': 'Model for regression Weather Wizard dataset',\n",
       "   'CreationTime': datetime.datetime(2024, 6, 22, 18, 19, 16, 904000, tzinfo=tzlocal()),\n",
       "   'ModelPackageStatus': 'Completed',\n",
       "   'ModelApprovalStatus': 'PendingManualApproval'}],\n",
       " 'ResponseMetadata': {'RequestId': 'e0d66dab-1f65-4305-af11-4cb8d1d9bd5d',\n",
       "  'HTTPStatusCode': 200,\n",
       "  'HTTPHeaders': {'x-amzn-requestid': 'e0d66dab-1f65-4305-af11-4cb8d1d9bd5d',\n",
       "   'content-type': 'application/x-amz-json-1.1',\n",
       "   'content-length': '425',\n",
       "   'date': 'Sat, 22 Jun 2024 18:19:17 GMT'},\n",
       "  'RetryAttempts': 0}}"
      ]
     },
     "execution_count": 192,
     "metadata": {},
     "output_type": "execute_result"
    }
   ],
   "source": [
    "client.list_model_packages(ModelPackageGroupName=model_package_group_name)"
   ]
  },
  {
   "cell_type": "code",
   "execution_count": 193,
   "id": "bccac69d-c1dd-49da-aa31-10651d7e59f9",
   "metadata": {},
   "outputs": [
    {
     "data": {
      "text/plain": [
       "'arn:aws:sagemaker:us-east-1:279288473542:model-package/xgboost-weather-wizard2024-06-22-18-19-15/1'"
      ]
     },
     "execution_count": 193,
     "metadata": {},
     "output_type": "execute_result"
    }
   ],
   "source": [
    "model_package_arn = client.list_model_packages(ModelPackageGroupName=model_package_group_name)[\"ModelPackageSummaryList\"][0][\"ModelPackageArn\"]\n",
    "model_package_arn"
   ]
  },
  {
   "cell_type": "code",
   "execution_count": 194,
   "id": "04cb4cbe-11ea-4bf8-bb0a-ee77edd04aa9",
   "metadata": {},
   "outputs": [
    {
     "data": {
      "text/plain": [
       "{'ModelPackageGroupName': 'xgboost-weather-wizard2024-06-22-18-19-15',\n",
       " 'ModelPackageVersion': 1,\n",
       " 'ModelPackageArn': 'arn:aws:sagemaker:us-east-1:279288473542:model-package/xgboost-weather-wizard2024-06-22-18-19-15/1',\n",
       " 'ModelPackageDescription': 'Model for regression Weather Wizard dataset',\n",
       " 'CreationTime': datetime.datetime(2024, 6, 22, 18, 19, 16, 904000, tzinfo=tzlocal()),\n",
       " 'InferenceSpecification': {'Containers': [{'Image': '683313688378.dkr.ecr.us-east-1.amazonaws.com/sagemaker-xgboost:1.0-1-cpu-py3',\n",
       "    'ImageDigest': 'sha256:da43a3b51e4fddd7743132d10eb2578d42c33f1a4d256bb4eaad349d4515b9b7',\n",
       "    'ModelDataUrl': 's3://weatherwizard-ml-model/xgboost-weatherwizard-ml-model/xgb_model/sagemaker-xgboost-2024-06-22-18-16-32-343/output/model.tar.gz'}],\n",
       "  'SupportedContentTypes': ['text/csv'],\n",
       "  'SupportedResponseMIMETypes': ['text/csv']},\n",
       " 'ModelPackageStatus': 'Completed',\n",
       " 'ModelPackageStatusDetails': {'ValidationStatuses': [],\n",
       "  'ImageScanStatuses': []},\n",
       " 'CertifyForMarketplace': False,\n",
       " 'ModelApprovalStatus': 'PendingManualApproval',\n",
       " 'CreatedBy': {'UserProfileArn': 'arn:aws:sagemaker:us-east-1:279288473542:user-profile/d-2ccnd4907qoa/default-20240313t183291',\n",
       "  'UserProfileName': 'default-20240313t183291',\n",
       "  'DomainId': 'd-2ccnd4907qoa',\n",
       "  'IamIdentity': {'Arn': 'arn:aws:sts::279288473542:assumed-role/AmazonSageMaker-ExecutionRole-20240313T183292/SageMaker',\n",
       "   'PrincipalId': 'AROAUCBXD47DLE3A5EL55:SageMaker'}},\n",
       " 'ResponseMetadata': {'RequestId': '23beb452-8fec-46b8-b2df-aa510eb37fd1',\n",
       "  'HTTPStatusCode': 200,\n",
       "  'HTTPHeaders': {'x-amzn-requestid': '23beb452-8fec-46b8-b2df-aa510eb37fd1',\n",
       "   'content-type': 'application/x-amz-json-1.1',\n",
       "   'content-length': '1313',\n",
       "   'date': 'Sat, 22 Jun 2024 18:19:18 GMT'},\n",
       "  'RetryAttempts': 0}}"
      ]
     },
     "execution_count": 194,
     "metadata": {},
     "output_type": "execute_result"
    }
   ],
   "source": [
    "client.describe_model_package(ModelPackageName=model_package_arn)"
   ]
  },
  {
   "cell_type": "code",
   "execution_count": 195,
   "id": "4696c9e0-0b54-49e7-b4af-069006d208d1",
   "metadata": {},
   "outputs": [
    {
     "name": "stdout",
     "output_type": "stream",
     "text": [
      "{'ModelPackageArn': 'arn:aws:sagemaker:us-east-1:279288473542:model-package/xgboost-weather-wizard2024-06-22-18-19-15/1', 'ResponseMetadata': {'RequestId': '5d54cd41-494d-46ab-a8e7-6d257fe2b390', 'HTTPStatusCode': 200, 'HTTPHeaders': {'x-amzn-requestid': '5d54cd41-494d-46ab-a8e7-6d257fe2b390', 'content-type': 'application/x-amz-json-1.1', 'content-length': '120', 'date': 'Sat, 22 Jun 2024 18:19:19 GMT'}, 'RetryAttempts': 0}}\n"
     ]
    }
   ],
   "source": [
    "# Approve the model package\n",
    "model_package_update_input_dict = {\"ModelPackageArn\": model_package_arn,\n",
    "                                   \"ModelApprovalStatus\": \"Approved\"}\n",
    "\n",
    "model_package_update_response = client.update_model_package(**model_package_update_input_dict)\n",
    "print(model_package_update_response)"
   ]
  },
  {
   "cell_type": "markdown",
   "id": "12afc91a-b907-440b-9956-3be9e6270b7a",
   "metadata": {},
   "source": [
    "# 7.0 Deployment"
   ]
  },
  {
   "cell_type": "markdown",
   "id": "43b41fb9-f912-4123-9ebd-e318f36800a0",
   "metadata": {},
   "source": [
    "## 7.1 Model Registration"
   ]
  },
  {
   "cell_type": "code",
   "execution_count": 196,
   "id": "70d932bb-493f-4986-9d40-cba85922324c",
   "metadata": {},
   "outputs": [
    {
     "name": "stdout",
     "output_type": "stream",
     "text": [
      "Model name : xgboost-weather-wizard-serverless-model2024-06-22-18-19-23\n",
      "Model arn : arn:aws:sagemaker:us-east-1:279288473542:model/xgboost-weather-wizard-serverless-model2024-06-22-18-19-23\n"
     ]
    }
   ],
   "source": [
    "model_name = \"xgboost-weather-wizard-serverless-model\" + strftime(\"%Y-%m-%d-%H-%M-%S\", gmtime())\n",
    "print(\"Model name : {}\".format(model_name))\n",
    "container_list = [{\"ModelPackageName\": model_package_arn}]\n",
    "create_model_response = client.create_model(ModelName=model_name, ExecutionRoleArn=role, Containers=container_list)\n",
    "print(\"Model arn : {}\".format(create_model_response[\"ModelArn\"]))"
   ]
  },
  {
   "cell_type": "markdown",
   "id": "cb808f75-4b48-44c7-9c07-49b439d2fa78",
   "metadata": {},
   "source": [
    "## 7.2 Endpoint Configuration"
   ]
  },
  {
   "cell_type": "markdown",
   "id": "b5f1499b-b919-4471-9368-954fbbde7413",
   "metadata": {},
   "source": [
    "This is where you can adjust the Serverless Configuration for your endpoint. The current max concurrent invocations for a single endpoint, known as MaxConcurrency, can be any value from 1 to 200, and MemorySize can be any of the following: 1024 MB, 2048 MB, 3072 MB, 4096 MB, 5120 MB, or 6144 MB."
   ]
  },
  {
   "cell_type": "code",
   "execution_count": 197,
   "id": "97dca776-7414-4d3a-b518-340c460ffdad",
   "metadata": {},
   "outputs": [
    {
     "name": "stdout",
     "output_type": "stream",
     "text": [
      "xgboost-serverless-weather-wizard-endpoint-configuration\n",
      "Endpoint configuration already created\n"
     ]
    }
   ],
   "source": [
    "try:\n",
    "    endpoint_config_name = \"xgboost-serverless-weather-wizard-endpoint-configuration\"# + strftime(\"%Y-%m-%d-%H-%M-%S\", gmtime())\n",
    "    print(endpoint_config_name)\n",
    "    create_endpoint_config_response = client.create_endpoint_config(\n",
    "        EndpointConfigName=endpoint_config_name,\n",
    "        ProductionVariants=[{\"ServerlessConfig\": {\"MemorySizeInMB\": 1024, \"MaxConcurrency\": 10},\n",
    "                             \"ModelName\": model_name,\n",
    "                             \"VariantName\": \"AllTraffic\"}])\n",
    "    print(\"Endpoint Configuration Arn: \" + create_endpoint_config_response[\"EndpointConfigArn\"])\n",
    "    \n",
    "except:\n",
    "    print(\"Endpoint configuration already created\")"
   ]
  },
  {
   "cell_type": "code",
   "execution_count": 198,
   "id": "47e75f1b-ed0d-46db-8053-b741aa5bdc97",
   "metadata": {},
   "outputs": [
    {
     "name": "stdout",
     "output_type": "stream",
     "text": [
      "Endpoint configuration 'xgboost-serverless-weather-wizard-endpoint-configuration' already exists. Updating it.\n",
      "Deleted existing endpoint configuration 'xgboost-serverless-weather-wizard-endpoint-configuration'.\n",
      "Endpoint Configuration Arn: arn:aws:sagemaker:us-east-1:279288473542:endpoint-config/xgboost-serverless-weather-wizard-endpoint-configuration\n"
     ]
    }
   ],
   "source": [
    "endpoint_config_name = \"xgboost-serverless-weather-wizard-endpoint-configuration\"\n",
    "\n",
    "def create_or_update_endpoint_config(client, endpoint_config_name, model_name):\n",
    "    try:\n",
    "        # Verifique se o endpoint configuration já existe\n",
    "        existing_configs = client.list_endpoint_configs(NameContains=endpoint_config_name)\n",
    "        for config in existing_configs['EndpointConfigs']:\n",
    "            if config['EndpointConfigName'] == endpoint_config_name:\n",
    "                print(f\"Endpoint configuration '{endpoint_config_name}' already exists. Updating it.\")\n",
    "\n",
    "                # Delete o endpoint configuration existente\n",
    "                client.delete_endpoint_config(EndpointConfigName=endpoint_config_name)\n",
    "                print(f\"Deleted existing endpoint configuration '{endpoint_config_name}'.\")\n",
    "                break\n",
    "\n",
    "        # Crie o novo endpoint configuration\n",
    "        create_endpoint_config_response = client.create_endpoint_config(\n",
    "            EndpointConfigName=endpoint_config_name,\n",
    "            ProductionVariants=[{\"ServerlessConfig\": {\"MemorySizeInMB\": 1024, \"MaxConcurrency\": 10},\n",
    "                                 \"ModelName\": model_name,\n",
    "                                 \"VariantName\": \"AllTraffic\",}])\n",
    "        \n",
    "        print(\"Endpoint Configuration Arn: \" + create_endpoint_config_response[\"EndpointConfigArn\"])\n",
    "    except client.exceptions.ResourceNotFound:\n",
    "        # Se o endpoint configuration não existe, crie um novo\n",
    "        print(f\"Endpoint configuration '{endpoint_config_name}' does not exist. Creating it.\")\n",
    "        create_endpoint_config_response = client.create_endpoint_config(EndpointConfigName=endpoint_config_name,\n",
    "                                                                        ProductionVariants=[{\"ServerlessConfig\": {\"MemorySizeInMB\": 1024, \"MaxConcurrency\": 10},\n",
    "                                                                                             \"ModelName\": model_name,\n",
    "                                                                                             \"VariantName\": \"AllTraffic\"}])\n",
    "        print(\"Endpoint Configuration Arn: \" + create_endpoint_config_response[\"EndpointConfigArn\"])\n",
    "        \n",
    "    except Exception as e:\n",
    "        print(f\"An error occurred: {e}\")\n",
    "\n",
    "create_or_update_endpoint_config(client, endpoint_config_name, model_name)"
   ]
  },
  {
   "cell_type": "markdown",
   "id": "84115f45-cc15-45e2-be8e-02d2915dfae3",
   "metadata": {},
   "source": [
    "## 7.3 Endpoint Creation"
   ]
  },
  {
   "cell_type": "raw",
   "id": "29aa423f-a204-43c9-b1b2-b5103d4ed718",
   "metadata": {},
   "source": [
    "Now that we have an endpoint configuration, we can create a serverless endpoint and deploy our model to it. When creating the endpoint, provide the name of your endpoint configuration and a name for the new endpoint."
   ]
  },
  {
   "cell_type": "code",
   "execution_count": 199,
   "id": "89ba3ca4-7c1b-40cd-937e-0a17ef058884",
   "metadata": {},
   "outputs": [
    {
     "name": "stdout",
     "output_type": "stream",
     "text": [
      "Checking if the endpoint 'xgboost-weather-wizard-serverless-endpoint' already exists.\n",
      "Endpoint 'xgboost-weather-wizard-serverless-endpoint' already exists. Preparing to update it.\n",
      "Deleting the existing endpoint 'xgboost-weather-wizard-serverless-endpoint'.\n",
      "Waiting for the endpoint 'xgboost-weather-wizard-serverless-endpoint' to be completely deleted.\n",
      "Endpoint 'xgboost-weather-wizard-serverless-endpoint' has been successfully deleted.\n",
      "Creating a new endpoint with name 'xgboost-weather-wizard-serverless-endpoint'.\n",
      "Endpoint Arn: arn:aws:sagemaker:us-east-1:279288473542:endpoint/xgboost-weather-wizard-serverless-endpoint\n"
     ]
    }
   ],
   "source": [
    "endpoint_name = \"xgboost-weather-wizard-serverless-endpoint\"\n",
    "\n",
    "def create_or_update_endpoint(client, endpoint_name, endpoint_config_name):\n",
    "    try:\n",
    "        print(f\"Checking if the endpoint '{endpoint_name}' already exists.\")\n",
    "        existing_endpoints = client.list_endpoints(NameContains=endpoint_name)\n",
    "        \n",
    "        for endpoint in existing_endpoints['Endpoints']:\n",
    "            if endpoint['EndpointName'] == endpoint_name:\n",
    "                print(f\"Endpoint '{endpoint_name}' already exists. Preparing to update it.\")\n",
    "\n",
    "                print(f\"Deleting the existing endpoint '{endpoint_name}'.\")\n",
    "                client.delete_endpoint(EndpointName=endpoint_name)\n",
    "\n",
    "                print(f\"Waiting for the endpoint '{endpoint_name}' to be completely deleted.\")\n",
    "                waiter = client.get_waiter('endpoint_deleted')\n",
    "                waiter.wait(EndpointName=endpoint_name)\n",
    "                print(f\"Endpoint '{endpoint_name}' has been successfully deleted.\")\n",
    "                break\n",
    "\n",
    "        print(f\"Creating a new endpoint with name '{endpoint_name}'.\")\n",
    "        create_endpoint_response = client.create_endpoint(\n",
    "            EndpointName=endpoint_name,\n",
    "            EndpointConfigName=endpoint_config_name\n",
    "        )\n",
    "        print(\"Endpoint Arn: \" + create_endpoint_response[\"EndpointArn\"])\n",
    "    \n",
    "    except client.exceptions.ResourceNotFound:\n",
    "        print(f\"Endpoint '{endpoint_name}' does not exist. Creating it.\")\n",
    "        create_endpoint_response = client.create_endpoint(\n",
    "            EndpointName=endpoint_name,\n",
    "            EndpointConfigName=endpoint_config_name\n",
    "        )\n",
    "        print(\"Endpoint Arn: \" + create_endpoint_response[\"EndpointArn\"])\n",
    "    \n",
    "    except Exception as e:\n",
    "        print(f\"An error occurred: {e}\")\n",
    "\n",
    "create_or_update_endpoint(client, endpoint_name, endpoint_config_name)\n"
   ]
  },
  {
   "cell_type": "raw",
   "id": "96454dce-e2b1-477c-ab26-c6d81b67dbd7",
   "metadata": {},
   "source": [
    "Wait until the endpoint status is InService before invoking the endpoint."
   ]
  },
  {
   "cell_type": "code",
   "execution_count": 200,
   "id": "cd6c5b50-75fd-4e01-a308-02295cec4ed4",
   "metadata": {},
   "outputs": [
    {
     "name": "stdout",
     "output_type": "stream",
     "text": [
      "Creating\n",
      "Creating\n",
      "Creating\n",
      "Creating\n",
      "Creating\n",
      "Creating\n",
      "Creating\n",
      "Creating\n",
      "Creating\n",
      "Creating\n",
      "Creating\n",
      "Creating\n",
      "Creating\n",
      "InService\n"
     ]
    },
    {
     "data": {
      "text/plain": [
       "{'EndpointName': 'xgboost-weather-wizard-serverless-endpoint',\n",
       " 'EndpointArn': 'arn:aws:sagemaker:us-east-1:279288473542:endpoint/xgboost-weather-wizard-serverless-endpoint',\n",
       " 'EndpointConfigName': 'xgboost-serverless-weather-wizard-endpoint-configuration',\n",
       " 'ProductionVariants': [{'VariantName': 'AllTraffic',\n",
       "   'DeployedImages': [{'SpecifiedImage': '683313688378.dkr.ecr.us-east-1.amazonaws.com/sagemaker-xgboost@sha256:da43a3b51e4fddd7743132d10eb2578d42c33f1a4d256bb4eaad349d4515b9b7',\n",
       "     'ResolvedImage': '683313688378.dkr.ecr.us-east-1.amazonaws.com/sagemaker-xgboost@sha256:da43a3b51e4fddd7743132d10eb2578d42c33f1a4d256bb4eaad349d4515b9b7',\n",
       "     'ResolutionTime': datetime.datetime(2024, 6, 22, 18, 20, 8, 554000, tzinfo=tzlocal())}],\n",
       "   'CurrentWeight': 1.0,\n",
       "   'DesiredWeight': 1.0,\n",
       "   'CurrentInstanceCount': 0,\n",
       "   'CurrentServerlessConfig': {'MemorySizeInMB': 1024, 'MaxConcurrency': 10}}],\n",
       " 'EndpointStatus': 'InService',\n",
       " 'CreationTime': datetime.datetime(2024, 6, 22, 18, 20, 7, 886000, tzinfo=tzlocal()),\n",
       " 'LastModifiedTime': datetime.datetime(2024, 6, 22, 18, 23, 29, 347000, tzinfo=tzlocal()),\n",
       " 'ResponseMetadata': {'RequestId': '602e9a14-260d-4153-bd3c-8eb2e09842cf',\n",
       "  'HTTPStatusCode': 200,\n",
       "  'HTTPHeaders': {'x-amzn-requestid': '602e9a14-260d-4153-bd3c-8eb2e09842cf',\n",
       "   'content-type': 'application/x-amz-json-1.1',\n",
       "   'content-length': '896',\n",
       "   'date': 'Sat, 22 Jun 2024 18:23:33 GMT'},\n",
       "  'RetryAttempts': 0}}"
      ]
     },
     "execution_count": 200,
     "metadata": {},
     "output_type": "execute_result"
    }
   ],
   "source": [
    "describe_endpoint_response = client.describe_endpoint(EndpointName=endpoint_name)\n",
    "\n",
    "while describe_endpoint_response[\"EndpointStatus\"] == \"Creating\":\n",
    "    describe_endpoint_response = client.describe_endpoint(EndpointName=endpoint_name)\n",
    "    print(describe_endpoint_response[\"EndpointStatus\"])\n",
    "    time.sleep(15)\n",
    "\n",
    "describe_endpoint_response"
   ]
  },
  {
   "cell_type": "markdown",
   "id": "b73ea643-7674-4847-83fb-601420d5623b",
   "metadata": {},
   "source": [
    "# 8.0 Invocation"
   ]
  },
  {
   "cell_type": "raw",
   "id": "246289f0-2875-4c03-9d6a-e5ae37a9fa9a",
   "metadata": {},
   "source": [
    "Invoke the endpoint by sending a request to it."
   ]
  },
  {
   "cell_type": "code",
   "execution_count": 201,
   "id": "f5521a80-5600-4d56-9f64-d16e7e609632",
   "metadata": {},
   "outputs": [
    {
     "data": {
      "text/plain": [
       "'FOG'"
      ]
     },
     "execution_count": 201,
     "metadata": {},
     "output_type": "execute_result"
    }
   ],
   "source": [
    "response = runtime.invoke_endpoint(\n",
    "    EndpointName=endpoint_name,\n",
    "    Body=b\"40.7128,\t-74.006, 9, 1, 2024, 2, 11\",\n",
    "    ContentType=\"text/csv\",\n",
    ")\n",
    "\n",
    "#print(response[\"Body\"].read())\n",
    "index_to_class[np.round(float(response[\"Body\"].read().decode('utf-8')), 0)]"
   ]
  },
  {
   "cell_type": "code",
   "execution_count": 204,
   "id": "a1aba147-84a2-4495-9256-05535e6877f0",
   "metadata": {},
   "outputs": [],
   "source": [
    "dataset_fe = dataset_fe.drop(columns = ['PREDICT_WEATHER_CATEGORY'])"
   ]
  },
  {
   "cell_type": "code",
   "execution_count": 205,
   "id": "e4642736-fedc-4edc-98d4-eb8b907abc00",
   "metadata": {},
   "outputs": [
    {
     "name": "stdout",
     "output_type": "stream",
     "text": [
      "FOG\n",
      "FOG\n",
      "SNOW\n",
      "FOG\n",
      "CLOUDY\n",
      "CLOUDY\n",
      "SNOW\n",
      "SUNNY\n",
      "SNOW\n",
      "SUNNY\n",
      "SNOW\n",
      "CLOUDY\n",
      "SUNNY\n",
      "CLOUDY\n",
      "SUNNY\n",
      "SUNNY\n",
      "CLOUDY\n",
      "RAINY\n",
      "FOG\n",
      "FOG\n",
      "CLOUDY\n",
      "CLOUDY\n",
      "RAINY\n",
      "SNOW\n",
      "FOG\n",
      "CLOUDY\n",
      "FOG\n",
      "RAINY\n",
      "SNOW\n",
      "RAINY\n",
      "FOG\n",
      "FOG\n",
      "SNOW\n",
      "CLOUDY\n",
      "SUNNY\n",
      "SNOW\n",
      "SNOW\n",
      "SNOW\n",
      "SNOW\n",
      "CLOUDY\n",
      "CLOUDY\n",
      "SNOW\n",
      "FOG\n",
      "SNOW\n",
      "CLOUDY\n",
      "SUNNY\n",
      "SNOW\n",
      "SNOW\n",
      "FOG\n",
      "SUNNY\n",
      "CLOUDY\n",
      "FOG\n",
      "RAINY\n",
      "CLOUDY\n",
      "FOG\n",
      "SUNNY\n",
      "CLOUDY\n",
      "SUNNY\n",
      "RAINY\n",
      "FOG\n",
      "SNOW\n",
      "CLOUDY\n",
      "RAINY\n",
      "FOG\n",
      "SNOW\n",
      "RAINY\n",
      "RAINY\n",
      "SNOW\n",
      "SNOW\n",
      "FOG\n",
      "CLOUDY\n",
      "SNOW\n",
      "SNOW\n",
      "SUNNY\n",
      "CLOUDY\n",
      "CLOUDY\n",
      "SNOW\n",
      "FOG\n",
      "SNOW\n",
      "SNOW\n",
      "SNOW\n",
      "FOG\n",
      "FOG\n",
      "SNOW\n",
      "SUNNY\n",
      "FOG\n",
      "CLOUDY\n",
      "FOG\n",
      "RAINY\n",
      "FOG\n",
      "SNOW\n",
      "SNOW\n",
      "FOG\n",
      "FOG\n",
      "RAINY\n",
      "RAINY\n",
      "SNOW\n",
      "RAINY\n",
      "FOG\n",
      "FOG\n"
     ]
    }
   ],
   "source": [
    "for i in range(100):\n",
    "    numpy_df_event = dataset_fe.iloc[i].to_numpy()\n",
    "    data_to_pred = [str(element) for element in numpy_df_event]\n",
    "    formatted_str = ','.join(data_to_pred)\n",
    "    formatted_str = formatted_str.replace(' ', '')\n",
    "    bytes_arr = bytes(formatted_str, 'utf-8')\n",
    "    response = runtime.invoke_endpoint(EndpointName=endpoint_name,\n",
    "                                Body=bytes_arr,\n",
    "                                ContentType=\"text/csv\")\n",
    "    #print(response[\"Body\"].read())\n",
    "    print(index_to_class[np.round(float(response[\"Body\"].read().decode('utf-8')), 0)])"
   ]
  },
  {
   "cell_type": "markdown",
   "id": "2dcaeec0-e9c1-4cd0-8a5a-c90c61f0a6d9",
   "metadata": {},
   "source": [
    "# Cleanup"
   ]
  },
  {
   "cell_type": "raw",
   "id": "675ca651-6457-4093-8b12-ad656626c4c1",
   "metadata": {},
   "source": [
    "client.delete_model(ModelName=model_name)\n",
    "client.delete_endpoint_config(EndpointConfigName=endpoint_config_name)\n",
    "client.delete_endpoint(EndpointName=endpoint_name)"
   ]
  }
 ],
 "metadata": {
  "kernelspec": {
   "display_name": "Python 3 (ipykernel)",
   "language": "python",
   "name": "python3"
  },
  "language_info": {
   "codemirror_mode": {
    "name": "ipython",
    "version": 3
   },
   "file_extension": ".py",
   "mimetype": "text/x-python",
   "name": "python",
   "nbconvert_exporter": "python",
   "pygments_lexer": "ipython3",
   "version": "3.11.9"
  }
 },
 "nbformat": 4,
 "nbformat_minor": 5
}
