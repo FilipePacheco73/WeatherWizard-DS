{
 "cells": [
  {
   "cell_type": "code",
   "execution_count": null,
   "id": "f3ea39ef-1ae8-4f13-b828-15a0687a9957",
   "metadata": {},
   "outputs": [],
   "source": [
    "# Libraries importation\n",
    "import pandas as pd\n",
    "import numpy as np"
   ]
  }
 ],
 "metadata": {
  "kernelspec": {
   "display_name": "Python 3 (ipykernel)",
   "language": "python",
   "name": "python3"
  },
  "language_info": {
   "codemirror_mode": {
    "name": "ipython",
    "version": 3
   },
   "file_extension": ".py",
   "mimetype": "text/x-python",
   "name": "python",
   "nbconvert_exporter": "python",
   "pygments_lexer": "ipython3",
   "version": "3.10.13"
  }
 },
 "nbformat": 4,
 "nbformat_minor": 5
}
