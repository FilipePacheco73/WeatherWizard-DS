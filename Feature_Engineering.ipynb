{
 "cells": [
  {
   "cell_type": "markdown",
   "id": "d7c758bb-49c1-4dff-b72a-8891942f0cb8",
   "metadata": {},
   "source": [
    "### Docs\n",
    "\n",
    "https://github.com/aws/amazon-sagemaker-examples/blob/main/serverless-inference/serverless-model-registry.ipynb"
   ]
  },
  {
   "cell_type": "code",
   "execution_count": 1,
   "id": "f3ea39ef-1ae8-4f13-b828-15a0687a9957",
   "metadata": {},
   "outputs": [
    {
     "name": "stdout",
     "output_type": "stream",
     "text": [
      "sagemaker.config INFO - Not applying SDK defaults from location: /etc/xdg/sagemaker/config.yaml\n",
      "sagemaker.config INFO - Not applying SDK defaults from location: /home/sagemaker-user/.config/sagemaker/config.yaml\n"
     ]
    }
   ],
   "source": [
    "# Libraries importation\n",
    "import pandas as pd\n",
    "import numpy as np\n",
    "import random\n",
    "import os\n",
    "import time\n",
    "from sklearn.model_selection import train_test_split\n",
    "import boto3\n",
    "import sagemaker\n",
    "from sagemaker.estimator import Estimator"
   ]
  },
  {
   "cell_type": "code",
   "execution_count": null,
   "id": "e7c4c485-8be0-40b4-91a2-3b334556a91c",
   "metadata": {},
   "outputs": [],
   "source": []
  },
  {
   "cell_type": "code",
   "execution_count": 2,
   "id": "6454121a-c0de-41ec-8bce-4b8835bbb26a",
   "metadata": {
    "scrolled": true
   },
   "outputs": [
    {
     "data": {
      "text/html": [
       "<div>\n",
       "<style scoped>\n",
       "    .dataframe tbody tr th:only-of-type {\n",
       "        vertical-align: middle;\n",
       "    }\n",
       "\n",
       "    .dataframe tbody tr th {\n",
       "        vertical-align: top;\n",
       "    }\n",
       "\n",
       "    .dataframe thead th {\n",
       "        text-align: right;\n",
       "    }\n",
       "</style>\n",
       "<table border=\"1\" class=\"dataframe\">\n",
       "  <thead>\n",
       "    <tr style=\"text-align: right;\">\n",
       "      <th></th>\n",
       "      <th>PREDICT_WEATHER_CATEGORY</th>\n",
       "      <th>LATITUDE</th>\n",
       "      <th>LONGITUDE</th>\n",
       "      <th>TIMESTAMP</th>\n",
       "      <th>WEB_BROWSER</th>\n",
       "      <th>DEVICE</th>\n",
       "      <th>OPERATING_SYSTEM</th>\n",
       "    </tr>\n",
       "  </thead>\n",
       "  <tbody>\n",
       "    <tr>\n",
       "      <th>0</th>\n",
       "      <td>4</td>\n",
       "      <td>35.6895</td>\n",
       "      <td>139.6917</td>\n",
       "      <td>2024-02-24 12:00:00</td>\n",
       "      <td>Chrome</td>\n",
       "      <td>Smartphone</td>\n",
       "      <td>Linux</td>\n",
       "    </tr>\n",
       "    <tr>\n",
       "      <th>1</th>\n",
       "      <td>1</td>\n",
       "      <td>51.5074</td>\n",
       "      <td>-0.1278</td>\n",
       "      <td>2024-02-24 12:00:00</td>\n",
       "      <td>Edge</td>\n",
       "      <td>Desktop</td>\n",
       "      <td>Linux</td>\n",
       "    </tr>\n",
       "    <tr>\n",
       "      <th>2</th>\n",
       "      <td>1</td>\n",
       "      <td>40.7128</td>\n",
       "      <td>-74.0060</td>\n",
       "      <td>2024-02-24 12:00:00</td>\n",
       "      <td>Opera</td>\n",
       "      <td>Desktop</td>\n",
       "      <td>Android</td>\n",
       "    </tr>\n",
       "    <tr>\n",
       "      <th>3</th>\n",
       "      <td>1</td>\n",
       "      <td>-23.5505</td>\n",
       "      <td>-46.6333</td>\n",
       "      <td>2024-02-24 12:00:00</td>\n",
       "      <td>Chrome</td>\n",
       "      <td>Laptop</td>\n",
       "      <td>Linux</td>\n",
       "    </tr>\n",
       "    <tr>\n",
       "      <th>4</th>\n",
       "      <td>2</td>\n",
       "      <td>51.5074</td>\n",
       "      <td>-0.1278</td>\n",
       "      <td>2024-02-24 12:00:00</td>\n",
       "      <td>Firefox</td>\n",
       "      <td>Desktop</td>\n",
       "      <td>Android</td>\n",
       "    </tr>\n",
       "    <tr>\n",
       "      <th>...</th>\n",
       "      <td>...</td>\n",
       "      <td>...</td>\n",
       "      <td>...</td>\n",
       "      <td>...</td>\n",
       "      <td>...</td>\n",
       "      <td>...</td>\n",
       "      <td>...</td>\n",
       "    </tr>\n",
       "    <tr>\n",
       "      <th>9995</th>\n",
       "      <td>4</td>\n",
       "      <td>-33.8688</td>\n",
       "      <td>151.2093</td>\n",
       "      <td>2024-02-24 12:00:00</td>\n",
       "      <td>Safari</td>\n",
       "      <td>Laptop</td>\n",
       "      <td>macOS</td>\n",
       "    </tr>\n",
       "    <tr>\n",
       "      <th>9996</th>\n",
       "      <td>2</td>\n",
       "      <td>35.6895</td>\n",
       "      <td>139.6917</td>\n",
       "      <td>2024-02-24 12:00:00</td>\n",
       "      <td>Opera</td>\n",
       "      <td>Laptop</td>\n",
       "      <td>Linux</td>\n",
       "    </tr>\n",
       "    <tr>\n",
       "      <th>9997</th>\n",
       "      <td>3</td>\n",
       "      <td>35.6895</td>\n",
       "      <td>139.6917</td>\n",
       "      <td>2024-02-24 12:00:00</td>\n",
       "      <td>Safari</td>\n",
       "      <td>Tablet</td>\n",
       "      <td>Android</td>\n",
       "    </tr>\n",
       "    <tr>\n",
       "      <th>9998</th>\n",
       "      <td>0</td>\n",
       "      <td>35.6895</td>\n",
       "      <td>139.6917</td>\n",
       "      <td>2024-02-24 12:00:00</td>\n",
       "      <td>Chrome</td>\n",
       "      <td>Desktop</td>\n",
       "      <td>macOS</td>\n",
       "    </tr>\n",
       "    <tr>\n",
       "      <th>9999</th>\n",
       "      <td>1</td>\n",
       "      <td>-23.5505</td>\n",
       "      <td>-46.6333</td>\n",
       "      <td>2024-02-24 12:00:00</td>\n",
       "      <td>Firefox</td>\n",
       "      <td>Desktop</td>\n",
       "      <td>Windows</td>\n",
       "    </tr>\n",
       "  </tbody>\n",
       "</table>\n",
       "<p>10000 rows × 7 columns</p>\n",
       "</div>"
      ],
      "text/plain": [
       "      PREDICT_WEATHER_CATEGORY  LATITUDE  LONGITUDE            TIMESTAMP  \\\n",
       "0                            4   35.6895   139.6917  2024-02-24 12:00:00   \n",
       "1                            1   51.5074    -0.1278  2024-02-24 12:00:00   \n",
       "2                            1   40.7128   -74.0060  2024-02-24 12:00:00   \n",
       "3                            1  -23.5505   -46.6333  2024-02-24 12:00:00   \n",
       "4                            2   51.5074    -0.1278  2024-02-24 12:00:00   \n",
       "...                        ...       ...        ...                  ...   \n",
       "9995                         4  -33.8688   151.2093  2024-02-24 12:00:00   \n",
       "9996                         2   35.6895   139.6917  2024-02-24 12:00:00   \n",
       "9997                         3   35.6895   139.6917  2024-02-24 12:00:00   \n",
       "9998                         0   35.6895   139.6917  2024-02-24 12:00:00   \n",
       "9999                         1  -23.5505   -46.6333  2024-02-24 12:00:00   \n",
       "\n",
       "     WEB_BROWSER      DEVICE OPERATING_SYSTEM  \n",
       "0         Chrome  Smartphone            Linux  \n",
       "1           Edge     Desktop            Linux  \n",
       "2          Opera     Desktop          Android  \n",
       "3         Chrome      Laptop            Linux  \n",
       "4        Firefox     Desktop          Android  \n",
       "...          ...         ...              ...  \n",
       "9995      Safari      Laptop            macOS  \n",
       "9996       Opera      Laptop            Linux  \n",
       "9997      Safari      Tablet          Android  \n",
       "9998      Chrome     Desktop            macOS  \n",
       "9999     Firefox     Desktop          Windows  \n",
       "\n",
       "[10000 rows x 7 columns]"
      ]
     },
     "execution_count": 2,
     "metadata": {},
     "output_type": "execute_result"
    }
   ],
   "source": [
    "# Lista de exemplos de navegadores da web\n",
    "web_browsers = ['Chrome', 'Firefox', 'Safari', 'Edge', 'Opera']\n",
    "\n",
    "# Lista de exemplos de dispositivos\n",
    "devices = ['Desktop', 'Laptop', 'Smartphone', 'Tablet']\n",
    "\n",
    "# Lista de exemplos de sistemas operacionais\n",
    "operating_systems = ['Windows', 'macOS', 'Linux', 'iOS', 'Android']\n",
    "\n",
    "# Lista de categorias de tempo para previsão\n",
    "weather_categories = ['SUNNY', 'CLOUDY', 'RAINY', 'FOG', 'SNOW']\n",
    "\n",
    "# Lista de coordenadas de latitude e longitude de exemplo\n",
    "coordinates = [\n",
    "    {'latitude': -23.5505, 'longitude': -46.6333},  # Exemplo de São Paulo, Brasil\n",
    "    {'latitude': 40.7128, 'longitude': -74.0060},  # Exemplo de Nova York, EUA\n",
    "    {'latitude': 51.5074, 'longitude': -0.1278},   # Exemplo de Londres, Reino Unido\n",
    "    {'latitude': 35.6895, 'longitude': 139.6917},  # Exemplo de Tóquio, Japão\n",
    "    {'latitude': -33.8688, 'longitude': 151.2093}  # Exemplo de Sydney, Austrália\n",
    "]\n",
    "\n",
    "# Função para gerar um exemplo de dados aleatório\n",
    "def generate_example():\n",
    "    example = {}\n",
    "    # Seleciona aleatoriamente uma categoria de tempo para previsão\n",
    "    example['PREDICT_WEATHER_CATEGORY'] = random.choice(weather_categories)\n",
    "    # Seleciona aleatoriamente uma coordenada de latitude e longitude\n",
    "    coordinates_choice = random.choice(coordinates)\n",
    "    example['LATITUDE'] = coordinates_choice['latitude']\n",
    "    example['LONGITUDE'] = coordinates_choice['longitude']\n",
    "    # Gera um timestamp aleatório (apenas para ilustração)\n",
    "    example['TIMESTAMP'] = '2024-02-24 12:00:00'\n",
    "    # Seleciona aleatoriamente um navegador, dispositivo e sistema operacional\n",
    "    example['WEB_BROWSER'] = random.choice(web_browsers)\n",
    "    example['DEVICE'] = random.choice(devices)\n",
    "    example['OPERATING_SYSTEM'] = random.choice(operating_systems)\n",
    "    return example\n",
    "\n",
    "# Gera 100 exemplos de dados\n",
    "dataset = [generate_example() for _ in range(10000)]\n",
    "\n",
    "index_to_class = {0: 'CLOUDY', 1: 'FOG', 2: 'RAINY', 3: 'SNOW', 4: 'SUNNY'}\n",
    "CLASS_INDEX = {'CLOUDY': 0, 'FOG': 1, 'RAINY': 2, 'SNOW': 3, 'SUNNY': 4}\n",
    "\n",
    "dataset_df = pd.DataFrame(dataset)\n",
    "dataset_df['PREDICT_WEATHER_CATEGORY'] = dataset_df['PREDICT_WEATHER_CATEGORY'].map(CLASS_INDEX)\n",
    "dataset_df"
   ]
  },
  {
   "cell_type": "markdown",
   "id": "40598ee7-6de4-4d43-8092-b0b4a7efbecf",
   "metadata": {},
   "source": [
    "# Feature Engineering"
   ]
  },
  {
   "cell_type": "code",
   "execution_count": 3,
   "id": "4e7bc40c-9cbe-4fec-a50d-a13bc8fc75f7",
   "metadata": {},
   "outputs": [
    {
     "data": {
      "text/html": [
       "<div>\n",
       "<style scoped>\n",
       "    .dataframe tbody tr th:only-of-type {\n",
       "        vertical-align: middle;\n",
       "    }\n",
       "\n",
       "    .dataframe tbody tr th {\n",
       "        vertical-align: top;\n",
       "    }\n",
       "\n",
       "    .dataframe thead th {\n",
       "        text-align: right;\n",
       "    }\n",
       "</style>\n",
       "<table border=\"1\" class=\"dataframe\">\n",
       "  <thead>\n",
       "    <tr style=\"text-align: right;\">\n",
       "      <th></th>\n",
       "      <th>PREDICT_WEATHER_CATEGORY</th>\n",
       "      <th>LATITUDE</th>\n",
       "      <th>LONGITUDE</th>\n",
       "      <th>TIMESTAMP</th>\n",
       "      <th>WEB_BROWSER</th>\n",
       "      <th>DEVICE</th>\n",
       "      <th>OPERATING_SYSTEM</th>\n",
       "    </tr>\n",
       "  </thead>\n",
       "  <tbody>\n",
       "    <tr>\n",
       "      <th>0</th>\n",
       "      <td>4</td>\n",
       "      <td>35.6895</td>\n",
       "      <td>139.6917</td>\n",
       "      <td>2024-02-24 12:00:00</td>\n",
       "      <td>0</td>\n",
       "      <td>2</td>\n",
       "      <td>1</td>\n",
       "    </tr>\n",
       "    <tr>\n",
       "      <th>1</th>\n",
       "      <td>1</td>\n",
       "      <td>51.5074</td>\n",
       "      <td>-0.1278</td>\n",
       "      <td>2024-02-24 12:00:00</td>\n",
       "      <td>1</td>\n",
       "      <td>0</td>\n",
       "      <td>1</td>\n",
       "    </tr>\n",
       "    <tr>\n",
       "      <th>2</th>\n",
       "      <td>1</td>\n",
       "      <td>40.7128</td>\n",
       "      <td>-74.0060</td>\n",
       "      <td>2024-02-24 12:00:00</td>\n",
       "      <td>4</td>\n",
       "      <td>0</td>\n",
       "      <td>0</td>\n",
       "    </tr>\n",
       "    <tr>\n",
       "      <th>3</th>\n",
       "      <td>1</td>\n",
       "      <td>-23.5505</td>\n",
       "      <td>-46.6333</td>\n",
       "      <td>2024-02-24 12:00:00</td>\n",
       "      <td>0</td>\n",
       "      <td>1</td>\n",
       "      <td>1</td>\n",
       "    </tr>\n",
       "    <tr>\n",
       "      <th>4</th>\n",
       "      <td>2</td>\n",
       "      <td>51.5074</td>\n",
       "      <td>-0.1278</td>\n",
       "      <td>2024-02-24 12:00:00</td>\n",
       "      <td>3</td>\n",
       "      <td>0</td>\n",
       "      <td>0</td>\n",
       "    </tr>\n",
       "    <tr>\n",
       "      <th>...</th>\n",
       "      <td>...</td>\n",
       "      <td>...</td>\n",
       "      <td>...</td>\n",
       "      <td>...</td>\n",
       "      <td>...</td>\n",
       "      <td>...</td>\n",
       "      <td>...</td>\n",
       "    </tr>\n",
       "    <tr>\n",
       "      <th>9995</th>\n",
       "      <td>4</td>\n",
       "      <td>-33.8688</td>\n",
       "      <td>151.2093</td>\n",
       "      <td>2024-02-24 12:00:00</td>\n",
       "      <td>5</td>\n",
       "      <td>1</td>\n",
       "      <td>4</td>\n",
       "    </tr>\n",
       "    <tr>\n",
       "      <th>9996</th>\n",
       "      <td>2</td>\n",
       "      <td>35.6895</td>\n",
       "      <td>139.6917</td>\n",
       "      <td>2024-02-24 12:00:00</td>\n",
       "      <td>4</td>\n",
       "      <td>1</td>\n",
       "      <td>1</td>\n",
       "    </tr>\n",
       "    <tr>\n",
       "      <th>9997</th>\n",
       "      <td>3</td>\n",
       "      <td>35.6895</td>\n",
       "      <td>139.6917</td>\n",
       "      <td>2024-02-24 12:00:00</td>\n",
       "      <td>5</td>\n",
       "      <td>3</td>\n",
       "      <td>0</td>\n",
       "    </tr>\n",
       "    <tr>\n",
       "      <th>9998</th>\n",
       "      <td>0</td>\n",
       "      <td>35.6895</td>\n",
       "      <td>139.6917</td>\n",
       "      <td>2024-02-24 12:00:00</td>\n",
       "      <td>0</td>\n",
       "      <td>0</td>\n",
       "      <td>4</td>\n",
       "    </tr>\n",
       "    <tr>\n",
       "      <th>9999</th>\n",
       "      <td>1</td>\n",
       "      <td>-23.5505</td>\n",
       "      <td>-46.6333</td>\n",
       "      <td>2024-02-24 12:00:00</td>\n",
       "      <td>3</td>\n",
       "      <td>0</td>\n",
       "      <td>2</td>\n",
       "    </tr>\n",
       "  </tbody>\n",
       "</table>\n",
       "<p>10000 rows × 7 columns</p>\n",
       "</div>"
      ],
      "text/plain": [
       "      PREDICT_WEATHER_CATEGORY  LATITUDE  LONGITUDE            TIMESTAMP  \\\n",
       "0                            4   35.6895   139.6917  2024-02-24 12:00:00   \n",
       "1                            1   51.5074    -0.1278  2024-02-24 12:00:00   \n",
       "2                            1   40.7128   -74.0060  2024-02-24 12:00:00   \n",
       "3                            1  -23.5505   -46.6333  2024-02-24 12:00:00   \n",
       "4                            2   51.5074    -0.1278  2024-02-24 12:00:00   \n",
       "...                        ...       ...        ...                  ...   \n",
       "9995                         4  -33.8688   151.2093  2024-02-24 12:00:00   \n",
       "9996                         2   35.6895   139.6917  2024-02-24 12:00:00   \n",
       "9997                         3   35.6895   139.6917  2024-02-24 12:00:00   \n",
       "9998                         0   35.6895   139.6917  2024-02-24 12:00:00   \n",
       "9999                         1  -23.5505   -46.6333  2024-02-24 12:00:00   \n",
       "\n",
       "      WEB_BROWSER  DEVICE  OPERATING_SYSTEM  \n",
       "0               0       2                 1  \n",
       "1               1       0                 1  \n",
       "2               4       0                 0  \n",
       "3               0       1                 1  \n",
       "4               3       0                 0  \n",
       "...           ...     ...               ...  \n",
       "9995            5       1                 4  \n",
       "9996            4       1                 1  \n",
       "9997            5       3                 0  \n",
       "9998            0       0                 4  \n",
       "9999            3       0                 2  \n",
       "\n",
       "[10000 rows x 7 columns]"
      ]
     },
     "execution_count": 3,
     "metadata": {},
     "output_type": "execute_result"
    }
   ],
   "source": [
    "def feature_engineering(dataset_df):\n",
    "    WEB_BROWSER = {'Chrome': 0, 'Edge': 1, 'Firefox':3, 'Opera':4, 'Safari': 5}\n",
    "    DEVICE = {'Desktop':0, 'Laptop':1, 'Smartphone':2, 'Tablet':3}\n",
    "    OPERATING_SYSTEM = {'Android':0, 'Linux':1, 'Windows':2, 'iOS':3, 'macOS':4}\n",
    "\n",
    "    dataset_df['WEB_BROWSER'] = dataset_df['WEB_BROWSER'].map(WEB_BROWSER)\n",
    "    dataset_df['DEVICE'] = dataset_df['DEVICE'].map(DEVICE)\n",
    "    dataset_df['OPERATING_SYSTEM'] = dataset_df['OPERATING_SYSTEM'].map(OPERATING_SYSTEM)\n",
    "    \n",
    "    return dataset_df\n",
    "    \n",
    "dataset_fe = feature_engineering(dataset_df)\n",
    "dataset_fe"
   ]
  },
  {
   "cell_type": "code",
   "execution_count": 4,
   "id": "7afa562e-eb7a-4c75-ae9b-d5a555c3d338",
   "metadata": {},
   "outputs": [],
   "source": [
    "# Assuming you already have a dataset where 'target' is your target variable\n",
    "# and 'features' are your input features.\n",
    "\n",
    "# Split the dataset into training and testing sets\n",
    "X_train, X_test, y_train, y_test = train_test_split(dataset_fe.drop(columns=['PREDICT_WEATHER_CATEGORY']), \n",
    "                                                    dataset_fe['PREDICT_WEATHER_CATEGORY'], \n",
    "                                                    test_size=0.2, \n",
    "                                                    random_state=42)\n",
    "\n",
    "\n",
    "# Concatenar X_train e y_train em um único DataFrame\n",
    "train_data = pd.concat([y_train, X_train], axis=1)\n",
    "\n",
    "# Concatenar X_test e y_test em um único DataFrame\n",
    "test_data = pd.concat([y_test, X_test], axis=1)\n",
    "\n",
    "# Salvar os conjuntos de dados de treinamento e teste juntos em um único arquivo CSV\n",
    "train_data.to_csv('train.csv', index=False)\n",
    "test_data.to_csv('test.csv', index=False)"
   ]
  },
  {
   "cell_type": "code",
   "execution_count": 5,
   "id": "beeb4316-63dc-40e9-9c23-f538b2a7f7de",
   "metadata": {},
   "outputs": [],
   "source": [
    "# Bot client\n",
    "s3 = boto3.client('s3')\n",
    "\n",
    "# Diretório onde os arquivos CSV estão localizados\n",
    "directory = f\"{os.getcwd()}/\"\n",
    "\n",
    "# Conecte-se ao cliente S3\n",
    "s3 = boto3.client('s3')\n",
    "\n",
    "# Upload do arquivo train.csv\n",
    "train_file = os.path.join(directory, 'train.csv')\n",
    "s3.upload_file(train_file, 'weatherwizard-ml-model', 'data/train.csv')\n",
    "\n",
    "# Upload do arquivo test.csv\n",
    "test_file = os.path.join(directory, 'test.csv')\n",
    "s3.upload_file(test_file, 'weatherwizard-ml-model', 'data/test.csv')"
   ]
  },
  {
   "cell_type": "markdown",
   "id": "536f89c0-7f8f-4108-8605-9a2c28b7795f",
   "metadata": {},
   "source": [
    "# Setup"
   ]
  },
  {
   "cell_type": "code",
   "execution_count": 6,
   "id": "5dd31c0c-12c9-4d03-87d7-1b36bd41cd1f",
   "metadata": {},
   "outputs": [],
   "source": [
    "# Setup clients\n",
    "client = boto3.client(service_name=\"sagemaker\")\n",
    "runtime = boto3.client(service_name=\"sagemaker-runtime\")"
   ]
  },
  {
   "cell_type": "code",
   "execution_count": 7,
   "id": "69f0c84f-2117-4b00-a0b5-0f1f36ef2d6f",
   "metadata": {},
   "outputs": [
    {
     "name": "stdout",
     "output_type": "stream",
     "text": [
      "us-east-1\n",
      "sagemaker.config INFO - Not applying SDK defaults from location: /etc/xdg/sagemaker/config.yaml\n",
      "sagemaker.config INFO - Not applying SDK defaults from location: /home/sagemaker-user/.config/sagemaker/config.yaml\n",
      "sagemaker.config INFO - Not applying SDK defaults from location: /etc/xdg/sagemaker/config.yaml\n",
      "sagemaker.config INFO - Not applying SDK defaults from location: /home/sagemaker-user/.config/sagemaker/config.yaml\n",
      "arn:aws:iam::279288473542:role/service-role/AmazonSageMaker-ExecutionRole-20240313T183292\n"
     ]
    }
   ],
   "source": [
    "boto_session = boto3.session.Session()\n",
    "region = boto_session.region_name\n",
    "print(region)\n",
    "\n",
    "sagemaker_session = sagemaker.Session()\n",
    "base_job_prefix = \"xgboost-weatherwizard-ml-model\"\n",
    "role = sagemaker.get_execution_role()\n",
    "print(role)\n",
    "\n",
    "#default_bucket = f'weatherwizard-ml-model-{sagemaker_session.default_bucket()}'\n",
    "default_bucket = 'weatherwizard-ml-model'\n",
    "s3_prefix = base_job_prefix\n",
    "\n",
    "training_instance_type = \"ml.m5.xlarge\""
   ]
  },
  {
   "cell_type": "markdown",
   "id": "a1b92058-09e6-498d-bd52-d4513a1e2e77",
   "metadata": {},
   "source": [
    "# Model Training"
   ]
  },
  {
   "cell_type": "code",
   "execution_count": 8,
   "id": "6f7527e7-0a3c-49a1-816f-71885c0a67dc",
   "metadata": {},
   "outputs": [],
   "source": [
    "from sagemaker.inputs import TrainingInput\n",
    "\n",
    "training_path = f\"s3://{default_bucket}/data/train.csv\"\n",
    "train_input = TrainingInput(training_path, content_type=\"text/csv\")"
   ]
  },
  {
   "cell_type": "code",
   "execution_count": 9,
   "id": "90ec8fd5-ae33-49ea-b040-48f3ba84601e",
   "metadata": {},
   "outputs": [],
   "source": [
    "model_path = f\"s3://{default_bucket}/{s3_prefix}/xgb_model\"\n",
    "\n",
    "# retrieve xgboost image\n",
    "image_uri = sagemaker.image_uris.retrieve(\n",
    "    framework=\"xgboost\",\n",
    "    region=region,\n",
    "    version=\"1.0-1\",\n",
    "    py_version=\"py3\",\n",
    "    instance_type=training_instance_type,\n",
    ")\n",
    "\n",
    "# Configure Training Estimator\n",
    "xgb_train = Estimator(\n",
    "    image_uri=image_uri,\n",
    "    instance_type=training_instance_type,\n",
    "    instance_count=1,\n",
    "    output_path=model_path,\n",
    "    sagemaker_session=sagemaker_session,\n",
    "    role=role,\n",
    ")\n",
    "\n",
    "# Set Hyperparameters\n",
    "xgb_train.set_hyperparameters(\n",
    "    objective=\"reg:linear\",\n",
    "    num_round=50,\n",
    "    max_depth=5,\n",
    "    eta=0.2,\n",
    "    gamma=4,\n",
    "    min_child_weight=6,\n",
    "    subsample=0.7,\n",
    "    silent=0,\n",
    ")"
   ]
  },
  {
   "cell_type": "code",
   "execution_count": 10,
   "id": "8752bd9a-115d-4199-9e79-e15722b78398",
   "metadata": {},
   "outputs": [
    {
     "name": "stderr",
     "output_type": "stream",
     "text": [
      "INFO:sagemaker:Creating training-job with name: sagemaker-xgboost-2024-05-18-18-46-05-621\n"
     ]
    },
    {
     "name": "stdout",
     "output_type": "stream",
     "text": [
      "2024-05-18 18:46:05 Starting - Starting the training job...\n",
      "2024-05-18 18:46:21 Starting - Preparing the instances for training...\n",
      "2024-05-18 18:46:47 Downloading - Downloading input data...\n",
      "2024-05-18 18:47:12 Downloading - Downloading the training image...\n",
      "2024-05-18 18:47:58 Training - Training image download completed. Training in progress.\n",
      "2024-05-18 18:47:58 Uploading - Uploading generated training model\u001b[34m[2024-05-18 18:47:54.011 ip-10-0-253-181.ec2.internal:7 INFO utils.py:27] RULE_JOB_STOP_SIGNAL_FILENAME: None\u001b[0m\n",
      "\u001b[34mINFO:sagemaker-containers:Imported framework sagemaker_xgboost_container.training\u001b[0m\n",
      "\u001b[34mINFO:sagemaker-containers:Failed to parse hyperparameter objective value reg:linear to Json.\u001b[0m\n",
      "\u001b[34mReturning the value itself\u001b[0m\n",
      "\u001b[34mINFO:sagemaker-containers:No GPUs detected (normal if no gpus installed)\u001b[0m\n",
      "\u001b[34mINFO:sagemaker_xgboost_container.training:Running XGBoost Sagemaker in algorithm mode\u001b[0m\n",
      "\u001b[34mINFO:root:Determined delimiter of CSV input is ','\u001b[0m\n",
      "\u001b[34mINFO:root:Determined delimiter of CSV input is ','\u001b[0m\n",
      "\u001b[34mINFO:root:Single node training.\u001b[0m\n",
      "\u001b[34m[18:47:54] 8001x6 matrix with 48006 entries loaded from /opt/ml/input/data/train?format=csv&label_column=0&delimiter=,\u001b[0m\n",
      "\u001b[34m[2024-05-18 18:47:54.073 ip-10-0-253-181.ec2.internal:7 INFO json_config.py:91] Creating hook from json_config at /opt/ml/input/config/debughookconfig.json.\u001b[0m\n",
      "\u001b[34m[2024-05-18 18:47:54.074 ip-10-0-253-181.ec2.internal:7 INFO hook.py:201] tensorboard_dir has not been set for the hook. SMDebug will not be exporting tensorboard summaries.\u001b[0m\n",
      "\u001b[34m[2024-05-18 18:47:54.074 ip-10-0-253-181.ec2.internal:7 INFO profiler_config_parser.py:102] User has disabled profiler.\u001b[0m\n",
      "\u001b[34m[2024-05-18 18:47:54.075 ip-10-0-253-181.ec2.internal:7 INFO hook.py:255] Saving to /opt/ml/output/tensors\u001b[0m\n",
      "\u001b[34m[2024-05-18 18:47:54.075 ip-10-0-253-181.ec2.internal:7 INFO state_store.py:77] The checkpoint config file /opt/ml/input/config/checkpointconfig.json does not exist.\u001b[0m\n",
      "\u001b[34mINFO:root:Debug hook created from config\u001b[0m\n",
      "\u001b[34mINFO:root:Train matrix has 8001 rows\u001b[0m\n",
      "\u001b[34m[18:47:54] WARNING: /workspace/src/objective/regression_obj.cu:167: reg:linear is now deprecated in favor of reg:squarederror.\u001b[0m\n",
      "\u001b[34m[18:47:54] WARNING: /workspace/src/learner.cc:328: \u001b[0m\n",
      "\u001b[34mParameters: { num_round, silent } might not be used.\n",
      "  This may not be accurate due to some parameters are only used in language bindings but\n",
      "  passed down to XGBoost core.  Or some parameters are not used but slip through this\n",
      "  verification. Please open an issue if you find above cases.\u001b[0m\n",
      "\u001b[34m[0]#011train-rmse:1.84470\u001b[0m\n",
      "\u001b[34m[2024-05-18 18:47:54.082 ip-10-0-253-181.ec2.internal:7 INFO hook.py:423] Monitoring the collections: metrics\u001b[0m\n",
      "\u001b[34m[2024-05-18 18:47:54.085 ip-10-0-253-181.ec2.internal:7 INFO hook.py:486] Hook is writing from the hook with pid: 7\u001b[0m\n",
      "\u001b[34m[1]#011train-rmse:1.69942\u001b[0m\n",
      "\u001b[34m[2]#011train-rmse:1.60005\u001b[0m\n",
      "\u001b[34m[3]#011train-rmse:1.53172\u001b[0m\n",
      "\u001b[34m[4]#011train-rmse:1.48662\u001b[0m\n",
      "\u001b[34m[5]#011train-rmse:1.45746\u001b[0m\n",
      "\u001b[34m[6]#011train-rmse:1.43751\u001b[0m\n",
      "\u001b[34m[7]#011train-rmse:1.42532\u001b[0m\n",
      "\u001b[34m[8]#011train-rmse:1.41633\u001b[0m\n",
      "\u001b[34m[9]#011train-rmse:1.41040\u001b[0m\n",
      "\u001b[34m[10]#011train-rmse:1.40661\u001b[0m\n",
      "\u001b[34m[11]#011train-rmse:1.40397\u001b[0m\n",
      "\u001b[34m[12]#011train-rmse:1.40175\u001b[0m\n",
      "\u001b[34m[13]#011train-rmse:1.39987\u001b[0m\n",
      "\u001b[34m[14]#011train-rmse:1.39914\u001b[0m\n",
      "\u001b[34m[15]#011train-rmse:1.39824\u001b[0m\n",
      "\u001b[34m[16]#011train-rmse:1.39772\u001b[0m\n",
      "\u001b[34m[17]#011train-rmse:1.39733\u001b[0m\n",
      "\u001b[34m[18]#011train-rmse:1.39665\u001b[0m\n",
      "\u001b[34m[19]#011train-rmse:1.39623\u001b[0m\n",
      "\u001b[34m[20]#011train-rmse:1.39606\u001b[0m\n",
      "\u001b[34m[21]#011train-rmse:1.39592\u001b[0m\n",
      "\u001b[34m[22]#011train-rmse:1.39542\u001b[0m\n",
      "\u001b[34m[23]#011train-rmse:1.39540\u001b[0m\n",
      "\u001b[34m[24]#011train-rmse:1.39529\u001b[0m\n",
      "\u001b[34m[25]#011train-rmse:1.39523\u001b[0m\n",
      "\u001b[34m[26]#011train-rmse:1.39513\u001b[0m\n",
      "\u001b[34m[27]#011train-rmse:1.39489\u001b[0m\n",
      "\u001b[34m[28]#011train-rmse:1.39463\u001b[0m\n",
      "\u001b[34m[29]#011train-rmse:1.39431\u001b[0m\n",
      "\u001b[34m[30]#011train-rmse:1.39406\u001b[0m\n",
      "\u001b[34m[31]#011train-rmse:1.39400\u001b[0m\n",
      "\u001b[34m[32]#011train-rmse:1.39370\u001b[0m\n",
      "\u001b[34m[33]#011train-rmse:1.39356\u001b[0m\n",
      "\u001b[34m[34]#011train-rmse:1.39330\u001b[0m\n",
      "\u001b[34m[35]#011train-rmse:1.39311\u001b[0m\n",
      "\u001b[34m[36]#011train-rmse:1.39287\u001b[0m\n",
      "\u001b[34m[37]#011train-rmse:1.39269\u001b[0m\n",
      "\u001b[34m[38]#011train-rmse:1.39262\u001b[0m\n",
      "\u001b[34m[39]#011train-rmse:1.39234\u001b[0m\n",
      "\u001b[34m[40]#011train-rmse:1.39224\u001b[0m\n",
      "\u001b[34m[41]#011train-rmse:1.39194\u001b[0m\n",
      "\u001b[34m[42]#011train-rmse:1.39175\u001b[0m\n",
      "\u001b[34m[43]#011train-rmse:1.39162\u001b[0m\n",
      "\u001b[34m[44]#011train-rmse:1.39144\u001b[0m\n",
      "\u001b[34m[45]#011train-rmse:1.39121\u001b[0m\n",
      "\u001b[34m[46]#011train-rmse:1.39098\u001b[0m\n",
      "\u001b[34m[47]#011train-rmse:1.39095\u001b[0m\n",
      "\u001b[34m[48]#011train-rmse:1.39094\u001b[0m\n",
      "\u001b[34m[49]#011train-rmse:1.39088\u001b[0m\n",
      "\n",
      "2024-05-18 18:48:11 Completed - Training job completed\n",
      "Training seconds: 84\n",
      "Billable seconds: 84\n"
     ]
    }
   ],
   "source": [
    "# Fit model\n",
    "xgb_train.fit({\"train\": train_input})"
   ]
  },
  {
   "cell_type": "code",
   "execution_count": 11,
   "id": "e64186cb-58a5-4dc8-98af-bf7d9ccfd50d",
   "metadata": {},
   "outputs": [
    {
     "data": {
      "text/plain": [
       "'s3://weatherwizard-ml-model/xgboost-weatherwizard-ml-model/xgb_model/sagemaker-xgboost-2024-05-18-18-46-05-621/output/model.tar.gz'"
      ]
     },
     "execution_count": 11,
     "metadata": {},
     "output_type": "execute_result"
    }
   ],
   "source": [
    "# Retrieve model data from training job\n",
    "model_artifacts = xgb_train.model_data\n",
    "model_artifacts"
   ]
  },
  {
   "cell_type": "markdown",
   "id": "8bc5b9c8-4d36-4c37-a7ce-723c24c9c050",
   "metadata": {},
   "source": [
    "# Model Registry"
   ]
  },
  {
   "cell_type": "code",
   "execution_count": 12,
   "id": "1535d0f6-020c-4826-bc8e-6f25746ca90f",
   "metadata": {},
   "outputs": [
    {
     "name": "stdout",
     "output_type": "stream",
     "text": [
      "ModelPackageGroup Arn : arn:aws:sagemaker:us-east-1:279288473542:model-package-group/xgboost-weather-wizard2024-05-18-18-48-48\n"
     ]
    }
   ],
   "source": [
    "# Create a Model Package Group: https://docs.aws.amazon.com/sagemaker/latest/dg/model-registry-model-group.html\n",
    "import time\n",
    "from time import gmtime, strftime\n",
    "\n",
    "model_package_group_name = \"xgboost-weather-wizard\" + strftime(\"%Y-%m-%d-%H-%M-%S\", gmtime())\n",
    "model_package_group_input_dict = {\n",
    "    \"ModelPackageGroupName\": model_package_group_name,\n",
    "    \"ModelPackageGroupDescription\": \"Model package group for xgboost regression model\",\n",
    "}\n",
    "\n",
    "create_model_pacakge_group_response = client.create_model_package_group(\n",
    "    **model_package_group_input_dict\n",
    ")\n",
    "print(\n",
    "    \"ModelPackageGroup Arn : {}\".format(create_model_pacakge_group_response[\"ModelPackageGroupArn\"])\n",
    ")"
   ]
  },
  {
   "cell_type": "code",
   "execution_count": 13,
   "id": "2b101737-ca76-4882-a1ae-57710700f314",
   "metadata": {},
   "outputs": [
    {
     "name": "stdout",
     "output_type": "stream",
     "text": [
      "ModelPackage Version ARN : arn:aws:sagemaker:us-east-1:279288473542:model-package/xgboost-weather-wizard2024-05-18-18-48-48/1\n"
     ]
    }
   ],
   "source": [
    "model_package_group_arn = create_model_pacakge_group_response[\"ModelPackageGroupArn\"]\n",
    "modelpackage_inference_specification = {\n",
    "    \"InferenceSpecification\": {\n",
    "        \"Containers\": [\n",
    "            {\n",
    "                \"Image\": image_uri,\n",
    "            }\n",
    "        ],\n",
    "        \"SupportedContentTypes\": [\"text/csv\"],\n",
    "        \"SupportedResponseMIMETypes\": [\"text/csv\"],\n",
    "    }\n",
    "}\n",
    "\n",
    "# Specify the model source\n",
    "model_url = model_artifacts\n",
    "\n",
    "# Specify the model data\n",
    "modelpackage_inference_specification[\"InferenceSpecification\"][\"Containers\"][0][\n",
    "    \"ModelDataUrl\"\n",
    "] = model_url\n",
    "\n",
    "create_model_package_input_dict = {\n",
    "    \"ModelPackageGroupName\": model_package_group_arn,\n",
    "    \"ModelPackageDescription\": \"Model for regression Weather Wizard dataset\",\n",
    "    \"ModelApprovalStatus\": \"PendingManualApproval\",\n",
    "}\n",
    "create_model_package_input_dict.update(modelpackage_inference_specification)\n",
    "\n",
    "# Create cross-account model package\n",
    "create_mode_package_response = client.create_model_package(**create_model_package_input_dict)\n",
    "model_package_arn = create_mode_package_response[\"ModelPackageArn\"]\n",
    "print(\"ModelPackage Version ARN : {}\".format(model_package_arn))"
   ]
  },
  {
   "cell_type": "code",
   "execution_count": 14,
   "id": "63195804-b825-41b8-9c6d-8b63f2509e2e",
   "metadata": {},
   "outputs": [
    {
     "data": {
      "text/plain": [
       "{'ModelPackageSummaryList': [{'ModelPackageGroupName': 'xgboost-weather-wizard2024-05-18-18-48-48',\n",
       "   'ModelPackageVersion': 1,\n",
       "   'ModelPackageArn': 'arn:aws:sagemaker:us-east-1:279288473542:model-package/xgboost-weather-wizard2024-05-18-18-48-48/1',\n",
       "   'ModelPackageDescription': 'Model for regression Weather Wizard dataset',\n",
       "   'CreationTime': datetime.datetime(2024, 5, 18, 18, 48, 48, 543000, tzinfo=tzlocal()),\n",
       "   'ModelPackageStatus': 'Completed',\n",
       "   'ModelApprovalStatus': 'PendingManualApproval'}],\n",
       " 'ResponseMetadata': {'RequestId': 'eb15603f-31a7-4122-9c6c-a6efb8d64481',\n",
       "  'HTTPStatusCode': 200,\n",
       "  'HTTPHeaders': {'x-amzn-requestid': 'eb15603f-31a7-4122-9c6c-a6efb8d64481',\n",
       "   'content-type': 'application/x-amz-json-1.1',\n",
       "   'content-length': '425',\n",
       "   'date': 'Sat, 18 May 2024 18:48:48 GMT'},\n",
       "  'RetryAttempts': 0}}"
      ]
     },
     "execution_count": 14,
     "metadata": {},
     "output_type": "execute_result"
    }
   ],
   "source": [
    "client.list_model_packages(ModelPackageGroupName=model_package_group_name)"
   ]
  },
  {
   "cell_type": "code",
   "execution_count": 15,
   "id": "bccac69d-c1dd-49da-aa31-10651d7e59f9",
   "metadata": {},
   "outputs": [
    {
     "data": {
      "text/plain": [
       "'arn:aws:sagemaker:us-east-1:279288473542:model-package/xgboost-weather-wizard2024-05-18-18-48-48/1'"
      ]
     },
     "execution_count": 15,
     "metadata": {},
     "output_type": "execute_result"
    }
   ],
   "source": [
    "model_package_arn = client.list_model_packages(ModelPackageGroupName=model_package_group_name)[\n",
    "    \"ModelPackageSummaryList\"\n",
    "][0][\"ModelPackageArn\"]\n",
    "model_package_arn"
   ]
  },
  {
   "cell_type": "code",
   "execution_count": 16,
   "id": "04cb4cbe-11ea-4bf8-bb0a-ee77edd04aa9",
   "metadata": {},
   "outputs": [
    {
     "data": {
      "text/plain": [
       "{'ModelPackageGroupName': 'xgboost-weather-wizard2024-05-18-18-48-48',\n",
       " 'ModelPackageVersion': 1,\n",
       " 'ModelPackageArn': 'arn:aws:sagemaker:us-east-1:279288473542:model-package/xgboost-weather-wizard2024-05-18-18-48-48/1',\n",
       " 'ModelPackageDescription': 'Model for regression Weather Wizard dataset',\n",
       " 'CreationTime': datetime.datetime(2024, 5, 18, 18, 48, 48, 543000, tzinfo=tzlocal()),\n",
       " 'InferenceSpecification': {'Containers': [{'Image': '683313688378.dkr.ecr.us-east-1.amazonaws.com/sagemaker-xgboost:1.0-1-cpu-py3',\n",
       "    'ImageDigest': 'sha256:b517ba0196d2579c5393750335ed104da74b11ad2a6f0ae5da6907a7221ff2e0',\n",
       "    'ModelDataUrl': 's3://weatherwizard-ml-model/xgboost-weatherwizard-ml-model/xgb_model/sagemaker-xgboost-2024-05-18-18-46-05-621/output/model.tar.gz'}],\n",
       "  'SupportedContentTypes': ['text/csv'],\n",
       "  'SupportedResponseMIMETypes': ['text/csv']},\n",
       " 'ModelPackageStatus': 'Completed',\n",
       " 'ModelPackageStatusDetails': {'ValidationStatuses': [],\n",
       "  'ImageScanStatuses': []},\n",
       " 'CertifyForMarketplace': False,\n",
       " 'ModelApprovalStatus': 'PendingManualApproval',\n",
       " 'CreatedBy': {'UserProfileArn': 'arn:aws:sagemaker:us-east-1:279288473542:user-profile/d-2ccnd4907qoa/default-20240313t183291',\n",
       "  'UserProfileName': 'default-20240313t183291',\n",
       "  'DomainId': 'd-2ccnd4907qoa',\n",
       "  'IamIdentity': {'Arn': 'arn:aws:sts::279288473542:assumed-role/AmazonSageMaker-ExecutionRole-20240313T183292/SageMaker',\n",
       "   'PrincipalId': 'AROAUCBXD47DLE3A5EL55:SageMaker'}},\n",
       " 'ResponseMetadata': {'RequestId': '6724c728-60e8-479b-8098-4ea290b6df6d',\n",
       "  'HTTPStatusCode': 200,\n",
       "  'HTTPHeaders': {'x-amzn-requestid': '6724c728-60e8-479b-8098-4ea290b6df6d',\n",
       "   'content-type': 'application/x-amz-json-1.1',\n",
       "   'content-length': '1313',\n",
       "   'date': 'Sat, 18 May 2024 18:48:48 GMT'},\n",
       "  'RetryAttempts': 0}}"
      ]
     },
     "execution_count": 16,
     "metadata": {},
     "output_type": "execute_result"
    }
   ],
   "source": [
    "client.describe_model_package(ModelPackageName=model_package_arn)"
   ]
  },
  {
   "cell_type": "code",
   "execution_count": 17,
   "id": "4696c9e0-0b54-49e7-b4af-069006d208d1",
   "metadata": {},
   "outputs": [
    {
     "name": "stdout",
     "output_type": "stream",
     "text": [
      "{'ModelPackageArn': 'arn:aws:sagemaker:us-east-1:279288473542:model-package/xgboost-weather-wizard2024-05-18-18-48-48/1', 'ResponseMetadata': {'RequestId': 'f23571db-4e68-4376-aa8e-2de95c16fef3', 'HTTPStatusCode': 200, 'HTTPHeaders': {'x-amzn-requestid': 'f23571db-4e68-4376-aa8e-2de95c16fef3', 'content-type': 'application/x-amz-json-1.1', 'content-length': '120', 'date': 'Sat, 18 May 2024 18:48:48 GMT'}, 'RetryAttempts': 0}}\n"
     ]
    }
   ],
   "source": [
    "# Approve the model package\n",
    "model_package_update_input_dict = {\n",
    "    \"ModelPackageArn\": model_package_arn,\n",
    "    \"ModelApprovalStatus\": \"Approved\",\n",
    "}\n",
    "model_package_update_response = client.update_model_package(**model_package_update_input_dict)\n",
    "print(model_package_update_response)"
   ]
  },
  {
   "cell_type": "markdown",
   "id": "12afc91a-b907-440b-9956-3be9e6270b7a",
   "metadata": {},
   "source": [
    "# Deployment"
   ]
  },
  {
   "cell_type": "markdown",
   "id": "43b41fb9-f912-4123-9ebd-e318f36800a0",
   "metadata": {},
   "source": [
    "## Model Creation"
   ]
  },
  {
   "cell_type": "code",
   "execution_count": 18,
   "id": "70d932bb-493f-4986-9d40-cba85922324c",
   "metadata": {},
   "outputs": [
    {
     "name": "stdout",
     "output_type": "stream",
     "text": [
      "Model name : xgboost-weather-wizard-serverless-model2024-05-18-18-48-48\n",
      "Model arn : arn:aws:sagemaker:us-east-1:279288473542:model/xgboost-weather-wizard-serverless-model2024-05-18-18-48-48\n"
     ]
    }
   ],
   "source": [
    "model_name = \"xgboost-weather-wizard-serverless-model\" + strftime(\"%Y-%m-%d-%H-%M-%S\", gmtime())\n",
    "print(\"Model name : {}\".format(model_name))\n",
    "container_list = [{\"ModelPackageName\": model_package_arn}]\n",
    "\n",
    "create_model_response = client.create_model(\n",
    "    ModelName=model_name, ExecutionRoleArn=role, Containers=container_list\n",
    ")\n",
    "print(\"Model arn : {}\".format(create_model_response[\"ModelArn\"]))"
   ]
  },
  {
   "cell_type": "markdown",
   "id": "cb808f75-4b48-44c7-9c07-49b439d2fa78",
   "metadata": {},
   "source": [
    "## Endpoint Configuration Creation"
   ]
  },
  {
   "cell_type": "markdown",
   "id": "b5f1499b-b919-4471-9368-954fbbde7413",
   "metadata": {},
   "source": [
    "This is where you can adjust the Serverless Configuration for your endpoint. The current max concurrent invocations for a single endpoint, known as MaxConcurrency, can be any value from 1 to 200, and MemorySize can be any of the following: 1024 MB, 2048 MB, 3072 MB, 4096 MB, 5120 MB, or 6144 MB."
   ]
  },
  {
   "cell_type": "code",
   "execution_count": 19,
   "id": "97dca776-7414-4d3a-b518-340c460ffdad",
   "metadata": {},
   "outputs": [
    {
     "name": "stdout",
     "output_type": "stream",
     "text": [
      "xgboost-serverless-weather-wizard-endpoint-configuration\n",
      "Endpoint configuration already created\n"
     ]
    }
   ],
   "source": [
    "try:\n",
    "    endpoint_config_name = \"xgboost-serverless-weather-wizard-endpoint-configuration\"# + strftime(\"%Y-%m-%d-%H-%M-%S\", gmtime())\n",
    "    print(endpoint_config_name)\n",
    "    create_endpoint_config_response = client.create_endpoint_config(\n",
    "        EndpointConfigName=endpoint_config_name,\n",
    "        ProductionVariants=[\n",
    "            {\n",
    "                \"ServerlessConfig\": {\"MemorySizeInMB\": 1024, \"MaxConcurrency\": 10},\n",
    "                \"ModelName\": model_name,\n",
    "                \"VariantName\": \"AllTraffic\",\n",
    "            }\n",
    "        ],\n",
    "    )\n",
    "    print(\"Endpoint Configuration Arn: \" + create_endpoint_config_response[\"EndpointConfigArn\"])\n",
    "except:\n",
    "    print(\"Endpoint configuration already created\")"
   ]
  },
  {
   "cell_type": "code",
   "execution_count": 20,
   "id": "47e75f1b-ed0d-46db-8053-b741aa5bdc97",
   "metadata": {},
   "outputs": [
    {
     "name": "stdout",
     "output_type": "stream",
     "text": [
      "Endpoint configuration 'xgboost-serverless-weather-wizard-endpoint-configuration' already exists. Updating it.\n",
      "Deleted existing endpoint configuration 'xgboost-serverless-weather-wizard-endpoint-configuration'.\n",
      "Endpoint Configuration Arn: arn:aws:sagemaker:us-east-1:279288473542:endpoint-config/xgboost-serverless-weather-wizard-endpoint-configuration\n"
     ]
    }
   ],
   "source": [
    "endpoint_config_name = \"xgboost-serverless-weather-wizard-endpoint-configuration\"\n",
    "\n",
    "def create_or_update_endpoint_config(client, endpoint_config_name, model_name):\n",
    "    try:\n",
    "        # Verifique se o endpoint configuration já existe\n",
    "        existing_configs = client.list_endpoint_configs(NameContains=endpoint_config_name)\n",
    "        for config in existing_configs['EndpointConfigs']:\n",
    "            if config['EndpointConfigName'] == endpoint_config_name:\n",
    "                print(f\"Endpoint configuration '{endpoint_config_name}' already exists. Updating it.\")\n",
    "\n",
    "                # Delete o endpoint configuration existente\n",
    "                client.delete_endpoint_config(EndpointConfigName=endpoint_config_name)\n",
    "                print(f\"Deleted existing endpoint configuration '{endpoint_config_name}'.\")\n",
    "                break\n",
    "\n",
    "        # Crie o novo endpoint configuration\n",
    "        create_endpoint_config_response = client.create_endpoint_config(\n",
    "            EndpointConfigName=endpoint_config_name,\n",
    "            ProductionVariants=[\n",
    "                {\n",
    "                    \"ServerlessConfig\": {\"MemorySizeInMB\": 1024, \"MaxConcurrency\": 10},\n",
    "                    \"ModelName\": model_name,\n",
    "                    \"VariantName\": \"AllTraffic\",\n",
    "                }\n",
    "            ],\n",
    "        )\n",
    "        print(\"Endpoint Configuration Arn: \" + create_endpoint_config_response[\"EndpointConfigArn\"])\n",
    "    except client.exceptions.ResourceNotFound:\n",
    "        # Se o endpoint configuration não existe, crie um novo\n",
    "        print(f\"Endpoint configuration '{endpoint_config_name}' does not exist. Creating it.\")\n",
    "        create_endpoint_config_response = client.create_endpoint_config(\n",
    "            EndpointConfigName=endpoint_config_name,\n",
    "            ProductionVariants=[\n",
    "                {\n",
    "                    \"ServerlessConfig\": {\"MemorySizeInMB\": 1024, \"MaxConcurrency\": 10},\n",
    "                    \"ModelName\": model_name,\n",
    "                    \"VariantName\": \"AllTraffic\",\n",
    "                }\n",
    "            ],\n",
    "        )\n",
    "        print(\"Endpoint Configuration Arn: \" + create_endpoint_config_response[\"EndpointConfigArn\"])\n",
    "    except Exception as e:\n",
    "        print(f\"An error occurred: {e}\")\n",
    "\n",
    "create_or_update_endpoint_config(client, endpoint_config_name, model_name)\n"
   ]
  },
  {
   "cell_type": "markdown",
   "id": "7fd55b85-5626-40aa-8531-6c0223774f18",
   "metadata": {},
   "source": [
    "## Endpoint Creation"
   ]
  },
  {
   "cell_type": "raw",
   "id": "29aa423f-a204-43c9-b1b2-b5103d4ed718",
   "metadata": {},
   "source": [
    "Now that we have an endpoint configuration, we can create a serverless endpoint and deploy our model to it. When creating the endpoint, provide the name of your endpoint configuration and a name for the new endpoint."
   ]
  },
  {
   "cell_type": "code",
   "execution_count": 21,
   "id": "89ba3ca4-7c1b-40cd-937e-0a17ef058884",
   "metadata": {},
   "outputs": [
    {
     "name": "stdout",
     "output_type": "stream",
     "text": [
      "Checking if the endpoint 'xgboost-weather-wizard-serverless-endpoint' already exists.\n",
      "Endpoint 'xgboost-weather-wizard-serverless-endpoint' already exists. Preparing to update it.\n",
      "Deleting the existing endpoint 'xgboost-weather-wizard-serverless-endpoint'.\n",
      "Waiting for the endpoint 'xgboost-weather-wizard-serverless-endpoint' to be completely deleted.\n",
      "Endpoint 'xgboost-weather-wizard-serverless-endpoint' has been successfully deleted.\n",
      "Creating a new endpoint with name 'xgboost-weather-wizard-serverless-endpoint'.\n",
      "Endpoint Arn: arn:aws:sagemaker:us-east-1:279288473542:endpoint/xgboost-weather-wizard-serverless-endpoint\n"
     ]
    }
   ],
   "source": [
    "endpoint_name = \"xgboost-weather-wizard-serverless-endpoint\"\n",
    "\n",
    "def create_or_update_endpoint(client, endpoint_name, endpoint_config_name):\n",
    "    try:\n",
    "        print(f\"Checking if the endpoint '{endpoint_name}' already exists.\")\n",
    "        existing_endpoints = client.list_endpoints(NameContains=endpoint_name)\n",
    "        \n",
    "        for endpoint in existing_endpoints['Endpoints']:\n",
    "            if endpoint['EndpointName'] == endpoint_name:\n",
    "                print(f\"Endpoint '{endpoint_name}' already exists. Preparing to update it.\")\n",
    "\n",
    "                print(f\"Deleting the existing endpoint '{endpoint_name}'.\")\n",
    "                client.delete_endpoint(EndpointName=endpoint_name)\n",
    "\n",
    "                print(f\"Waiting for the endpoint '{endpoint_name}' to be completely deleted.\")\n",
    "                waiter = client.get_waiter('endpoint_deleted')\n",
    "                waiter.wait(EndpointName=endpoint_name)\n",
    "                print(f\"Endpoint '{endpoint_name}' has been successfully deleted.\")\n",
    "                break\n",
    "\n",
    "        print(f\"Creating a new endpoint with name '{endpoint_name}'.\")\n",
    "        create_endpoint_response = client.create_endpoint(\n",
    "            EndpointName=endpoint_name,\n",
    "            EndpointConfigName=endpoint_config_name\n",
    "        )\n",
    "        print(\"Endpoint Arn: \" + create_endpoint_response[\"EndpointArn\"])\n",
    "    \n",
    "    except client.exceptions.ResourceNotFound:\n",
    "        print(f\"Endpoint '{endpoint_name}' does not exist. Creating it.\")\n",
    "        create_endpoint_response = client.create_endpoint(\n",
    "            EndpointName=endpoint_name,\n",
    "            EndpointConfigName=endpoint_config_name\n",
    "        )\n",
    "        print(\"Endpoint Arn: \" + create_endpoint_response[\"EndpointArn\"])\n",
    "    \n",
    "    except Exception as e:\n",
    "        print(f\"An error occurred: {e}\")\n",
    "\n",
    "create_or_update_endpoint(client, endpoint_name, endpoint_config_name)\n"
   ]
  },
  {
   "cell_type": "raw",
   "id": "96454dce-e2b1-477c-ab26-c6d81b67dbd7",
   "metadata": {},
   "source": [
    "Wait until the endpoint status is InService before invoking the endpoint."
   ]
  },
  {
   "cell_type": "code",
   "execution_count": 22,
   "id": "cd6c5b50-75fd-4e01-a308-02295cec4ed4",
   "metadata": {},
   "outputs": [
    {
     "name": "stdout",
     "output_type": "stream",
     "text": [
      "Creating\n",
      "Creating\n",
      "Creating\n",
      "Creating\n",
      "Creating\n",
      "Creating\n",
      "Creating\n",
      "Creating\n",
      "Creating\n",
      "Creating\n",
      "Creating\n",
      "InService\n"
     ]
    },
    {
     "data": {
      "text/plain": [
       "{'EndpointName': 'xgboost-weather-wizard-serverless-endpoint',\n",
       " 'EndpointArn': 'arn:aws:sagemaker:us-east-1:279288473542:endpoint/xgboost-weather-wizard-serverless-endpoint',\n",
       " 'EndpointConfigName': 'xgboost-serverless-weather-wizard-endpoint-configuration',\n",
       " 'ProductionVariants': [{'VariantName': 'AllTraffic',\n",
       "   'DeployedImages': [{'SpecifiedImage': '683313688378.dkr.ecr.us-east-1.amazonaws.com/sagemaker-xgboost@sha256:b517ba0196d2579c5393750335ed104da74b11ad2a6f0ae5da6907a7221ff2e0',\n",
       "     'ResolvedImage': '683313688378.dkr.ecr.us-east-1.amazonaws.com/sagemaker-xgboost@sha256:b517ba0196d2579c5393750335ed104da74b11ad2a6f0ae5da6907a7221ff2e0',\n",
       "     'ResolutionTime': datetime.datetime(2024, 5, 18, 18, 49, 23, 3000, tzinfo=tzlocal())}],\n",
       "   'CurrentWeight': 1.0,\n",
       "   'DesiredWeight': 1.0,\n",
       "   'CurrentInstanceCount': 0,\n",
       "   'CurrentServerlessConfig': {'MemorySizeInMB': 1024, 'MaxConcurrency': 10}}],\n",
       " 'EndpointStatus': 'InService',\n",
       " 'CreationTime': datetime.datetime(2024, 5, 18, 18, 49, 22, 423000, tzinfo=tzlocal()),\n",
       " 'LastModifiedTime': datetime.datetime(2024, 5, 18, 18, 52, 2, 427000, tzinfo=tzlocal()),\n",
       " 'ResponseMetadata': {'RequestId': 'a1705924-6b76-4b65-a11e-e0e244dcc6c0',\n",
       "  'HTTPStatusCode': 200,\n",
       "  'HTTPHeaders': {'x-amzn-requestid': 'a1705924-6b76-4b65-a11e-e0e244dcc6c0',\n",
       "   'content-type': 'application/x-amz-json-1.1',\n",
       "   'content-length': '896',\n",
       "   'date': 'Sat, 18 May 2024 18:52:09 GMT'},\n",
       "  'RetryAttempts': 0}}"
      ]
     },
     "execution_count": 22,
     "metadata": {},
     "output_type": "execute_result"
    }
   ],
   "source": [
    "describe_endpoint_response = client.describe_endpoint(EndpointName=endpoint_name)\n",
    "\n",
    "while describe_endpoint_response[\"EndpointStatus\"] == \"Creating\":\n",
    "    describe_endpoint_response = client.describe_endpoint(EndpointName=endpoint_name)\n",
    "    print(describe_endpoint_response[\"EndpointStatus\"])\n",
    "    time.sleep(15)\n",
    "\n",
    "describe_endpoint_response"
   ]
  },
  {
   "cell_type": "markdown",
   "id": "b73ea643-7674-4847-83fb-601420d5623b",
   "metadata": {},
   "source": [
    "# Invocation"
   ]
  },
  {
   "cell_type": "raw",
   "id": "246289f0-2875-4c03-9d6a-e5ae37a9fa9a",
   "metadata": {},
   "source": [
    "Invoke the endpoint by sending a request to it."
   ]
  },
  {
   "cell_type": "code",
   "execution_count": 24,
   "id": "f5521a80-5600-4d56-9f64-d16e7e609632",
   "metadata": {},
   "outputs": [
    {
     "data": {
      "text/plain": [
       "'RAINY'"
      ]
     },
     "execution_count": 24,
     "metadata": {},
     "output_type": "execute_result"
    }
   ],
   "source": [
    "response = runtime.invoke_endpoint(\n",
    "    EndpointName=endpoint_name,\n",
    "    Body=b\"40.7128,\t-74.006, 0,\t0, 0\",\n",
    "    ContentType=\"text/csv\",\n",
    ")\n",
    "\n",
    "#print(response[\"Body\"].read())\n",
    "index_to_class[np.round(float(response[\"Body\"].read().decode('utf-8')), 0)]"
   ]
  },
  {
   "cell_type": "code",
   "execution_count": 26,
   "id": "27961e32-856f-4876-8605-02825d0c4839",
   "metadata": {},
   "outputs": [
    {
     "data": {
      "text/plain": [
       "'RAINY'"
      ]
     },
     "execution_count": 26,
     "metadata": {},
     "output_type": "execute_result"
    }
   ],
   "source": [
    "response = runtime.invoke_endpoint(\n",
    "    EndpointName=endpoint_name,\n",
    "    Body=b\"-33.8688, 151.2093, 1, 0, 0\",\n",
    "    ContentType=\"text/csv\",\n",
    ")\n",
    "\n",
    "#print(response[\"Body\"].read())\n",
    "index_to_class[np.round(float(response[\"Body\"].read().decode('utf-8')), 0)]"
   ]
  },
  {
   "cell_type": "code",
   "execution_count": null,
   "id": "4e9b0693-1534-4a32-a505-7e26a059d765",
   "metadata": {},
   "outputs": [],
   "source": []
  },
  {
   "cell_type": "code",
   "execution_count": 41,
   "id": "8b1109d9-4bde-4002-8e79-94a8514611a5",
   "metadata": {},
   "outputs": [],
   "source": [
    "event = {\n",
    "  \"LATITUDE\": \"40.7128\",\n",
    "  \"LONGITUDE\": \"-74.0060\",\n",
    "  \"WEB_BROWSER\": \"1\",\n",
    "  \"DEVICE\": \"2\",\n",
    "  \"OPERATING_SYSTEM\": \"3\"\n",
    "}"
   ]
  },
  {
   "cell_type": "code",
   "execution_count": 42,
   "id": "7506eaf2-cc08-4f50-abd2-11f29e678c2c",
   "metadata": {
    "scrolled": true
   },
   "outputs": [
    {
     "data": {
      "text/html": [
       "<div>\n",
       "<style scoped>\n",
       "    .dataframe tbody tr th:only-of-type {\n",
       "        vertical-align: middle;\n",
       "    }\n",
       "\n",
       "    .dataframe tbody tr th {\n",
       "        vertical-align: top;\n",
       "    }\n",
       "\n",
       "    .dataframe thead th {\n",
       "        text-align: right;\n",
       "    }\n",
       "</style>\n",
       "<table border=\"1\" class=\"dataframe\">\n",
       "  <thead>\n",
       "    <tr style=\"text-align: right;\">\n",
       "      <th></th>\n",
       "      <th>LATITUDE</th>\n",
       "      <th>LONGITUDE</th>\n",
       "      <th>WEB_BROWSER</th>\n",
       "      <th>DEVICE</th>\n",
       "      <th>OPERATING_SYSTEM</th>\n",
       "    </tr>\n",
       "  </thead>\n",
       "  <tbody>\n",
       "    <tr>\n",
       "      <th>0</th>\n",
       "      <td>40.7128</td>\n",
       "      <td>-74.0060</td>\n",
       "      <td>1</td>\n",
       "      <td>2</td>\n",
       "      <td>3</td>\n",
       "    </tr>\n",
       "  </tbody>\n",
       "</table>\n",
       "</div>"
      ],
      "text/plain": [
       "  LATITUDE LONGITUDE WEB_BROWSER DEVICE OPERATING_SYSTEM\n",
       "0  40.7128  -74.0060           1      2                3"
      ]
     },
     "execution_count": 42,
     "metadata": {},
     "output_type": "execute_result"
    }
   ],
   "source": [
    "dataset_df = json.dumps(event)\n",
    "dataset_df = pd.json_normalize(json.loads(dataset_df))\n",
    "dataset_df"
   ]
  },
  {
   "cell_type": "code",
   "execution_count": 65,
   "id": "2d092da9-1ecd-4f23-8c81-561fa5b277eb",
   "metadata": {},
   "outputs": [],
   "source": [
    "arr = dataset_df.iloc[0].to_numpy()"
   ]
  },
  {
   "cell_type": "code",
   "execution_count": 66,
   "id": "b6e26de8-87ac-4265-b1ec-4184fa64c05b",
   "metadata": {},
   "outputs": [],
   "source": [
    "formatted_str = ', '.join(arr)\n",
    "formatted_str = formatted_str.replace(' ', '')  # Remove spaces\n",
    "\n",
    "# Converting the formatted string to bytes\n",
    "bytes_arr = bytes(formatted_str, 'utf-8')"
   ]
  },
  {
   "cell_type": "code",
   "execution_count": 67,
   "id": "0721ea1c-6f1a-4586-bba4-60495297b471",
   "metadata": {},
   "outputs": [
    {
     "data": {
      "text/plain": [
       "b'40.7128,-74.0060,1,2,3'"
      ]
     },
     "execution_count": 67,
     "metadata": {},
     "output_type": "execute_result"
    }
   ],
   "source": [
    "bytes_arr"
   ]
  },
  {
   "cell_type": "code",
   "execution_count": 64,
   "id": "0ad33542-d64f-4153-9f23-779d5e6629ed",
   "metadata": {},
   "outputs": [
    {
     "data": {
      "text/plain": [
       "'RAINY'"
      ]
     },
     "execution_count": 64,
     "metadata": {},
     "output_type": "execute_result"
    }
   ],
   "source": [
    "response = runtime.invoke_endpoint(EndpointName=endpoint_name,\n",
    "                                    Body=bytes_arr,\n",
    "                                    ContentType=\"text/csv\")\n",
    "\n",
    "#print(response[\"Body\"].read())\n",
    "index_to_class[np.round(float(response[\"Body\"].read().decode('utf-8')), 0)]\n",
    "    "
   ]
  },
  {
   "cell_type": "code",
   "execution_count": null,
   "id": "e12a45a3-95fd-4f0b-932f-1c9d6ef79ee3",
   "metadata": {},
   "outputs": [],
   "source": []
  },
  {
   "cell_type": "code",
   "execution_count": null,
   "id": "1a9d43e8-d073-4dee-a5eb-d94dd2ff88d0",
   "metadata": {},
   "outputs": [],
   "source": []
  },
  {
   "cell_type": "code",
   "execution_count": null,
   "id": "ddf181c1-48e4-41c9-9a33-ee8fb0a00383",
   "metadata": {},
   "outputs": [],
   "source": []
  },
  {
   "cell_type": "code",
   "execution_count": null,
   "id": "3670ae70-9bed-4f63-bb4c-82dbf44a84b3",
   "metadata": {},
   "outputs": [],
   "source": []
  },
  {
   "cell_type": "code",
   "execution_count": null,
   "id": "4df571d0-48e1-48b7-849a-50d4dbeac63a",
   "metadata": {},
   "outputs": [],
   "source": []
  },
  {
   "cell_type": "markdown",
   "id": "2dcaeec0-e9c1-4cd0-8a5a-c90c61f0a6d9",
   "metadata": {
    "jupyter": {
     "source_hidden": true
    }
   },
   "source": [
    "# Cleanup"
   ]
  },
  {
   "cell_type": "raw",
   "id": "675ca651-6457-4093-8b12-ad656626c4c1",
   "metadata": {},
   "source": [
    "client.delete_model(ModelName=model_name)\n",
    "client.delete_endpoint_config(EndpointConfigName=endpoint_config_name)\n",
    "client.delete_endpoint(EndpointName=endpoint_name)"
   ]
  }
 ],
 "metadata": {
  "kernelspec": {
   "display_name": "Python 3 (ipykernel)",
   "language": "python",
   "name": "python3"
  },
  "language_info": {
   "codemirror_mode": {
    "name": "ipython",
    "version": 3
   },
   "file_extension": ".py",
   "mimetype": "text/x-python",
   "name": "python",
   "nbconvert_exporter": "python",
   "pygments_lexer": "ipython3",
   "version": "3.10.14"
  }
 },
 "nbformat": 4,
 "nbformat_minor": 5
}
